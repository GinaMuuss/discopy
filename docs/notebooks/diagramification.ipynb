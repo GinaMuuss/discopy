{
 "cells": [
  {
   "cell_type": "markdown",
   "metadata": {},
   "source": [
    "# diagramification"
   ]
  },
  {
   "cell_type": "code",
   "execution_count": 1,
   "metadata": {},
   "outputs": [
    {
     "data": {
      "image/png": "[encoded data removed]",
      "text/plain": [
       "<Figure size 216x216 with 1 Axes>"
      ]
     },
     "metadata": {
      "needs_background": "light"
     },
     "output_type": "display_data"
    }
   ],
   "source": [
    "from discopy import *\n",
    "from discopy.drawing import diagramify\n",
    "\n",
    "x, y, z, w = Ty('x'), Ty('y'), Ty('z'), Ty('w')\n",
    "f, g, h = Box('f', x, y), Box('g', y, z), Box('h', y @ z, w)\n",
    "\n",
    "@diagramify(dom=x @ y, cod=w, boxes=[f, g, h])\n",
    "def diagram(left, right):\n",
    "    return h(f(left), g(right))\n",
    "\n",
    "diagram.draw(figsize=(3, 3))"
   ]
  },
  {
   "cell_type": "code",
   "execution_count": 2,
   "metadata": {},
   "outputs": [
    {
     "data": {
      "image/png": "[encoded data removed]",
      "text/plain": [
       "<Figure size 216x216 with 1 Axes>"
      ]
     },
     "metadata": {
      "needs_background": "light"
     },
     "output_type": "display_data"
    }
   ],
   "source": [
    "cap, cup = Cap(x, x.l), Cup(x.l, x)\n",
    "\n",
    "@diagramify(dom=x, cod=x, boxes=[cup, cap])\n",
    "def right_snake(right):\n",
    "    left, middle = cap()\n",
    "    cup(middle, right)\n",
    "    return left\n",
    "\n",
    "right_snake.draw(figsize=(3, 3))"
   ]
  },
  {
   "cell_type": "code",
   "execution_count": 3,
   "metadata": {},
   "outputs": [
    {
     "data": {
      "image/png": "[encoded data removed]",
      "text/plain": [
       "<Figure size 216x216 with 1 Axes>"
      ]
     },
     "metadata": {
      "needs_background": "light"
     },
     "output_type": "display_data"
    }
   ],
   "source": [
    "cap, cup = Cap(x.r, x), Cup(x, x.r)\n",
    "\n",
    "@diagramify(dom=x, cod=x, boxes=[cup, cap])\n",
    "def left_snake(left):\n",
    "    middle, right = cap(offset=1)\n",
    "    cup(left, middle)\n",
    "    return right\n",
    "\n",
    "left_snake.draw(figsize=(3, 3))"
   ]
  }
 ],
 "metadata": {
  "kernelspec": {
   "display_name": "Python 3",
   "language": "python",
   "name": "python3"
  },
  "language_info": {
   "codemirror_mode": {
    "name": "ipython",
    "version": 3
   },
   "file_extension": ".py",
   "mimetype": "text/x-python",
   "name": "python",
   "nbconvert_exporter": "python",
   "pygments_lexer": "ipython3",
   "version": "3.8.5"
  }
 },
 "nbformat": 4,
 "nbformat_minor": 4
}
