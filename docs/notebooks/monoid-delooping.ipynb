{
 "cells": [
  {
   "cell_type": "markdown",
   "metadata": {},
   "source": [
    "# monoid-delooping\n",
    "\n",
    "We give an example of a custom monoidal category in `discopy`, with a monoidal functor into it.\n",
    "\n",
    "The monoidal category is given by the delooping of a commutative monoid, see the [nLab](https://ncatlab.org/nlab/show/delooping). It has one object, arrows given by the monoid elements, composition and tensor both given by the monoid product.\n",
    "\n",
    "We encode a context-free grammar as a free monoidal category, then taking monoidal functors into the delooping of the nonnegative reals yields a [weighted context-free grammar](https://en.wikipedia.org/wiki/Probabilistic_context-free_grammar#Weighted_context-free_grammar)."
   ]
  },
  {
   "cell_type": "code",
   "execution_count": 1,
   "metadata": {},
   "outputs": [],
   "source": [
    "from discopy import Ty, Box, Id, Functor"
   ]
  },
  {
   "cell_type": "code",
   "execution_count": 2,
   "metadata": {},
   "outputs": [
    {
     "data": {
      "image/png": "[encoded data removed]",
      "text/plain": [
       "<Figure size 432x288 with 1 Axes>"
      ]
     },
     "metadata": {},
     "output_type": "display_data"
    },
    {
     "data": {
      "text/plain": [
       "<AxesSubplot:>"
      ]
     },
     "execution_count": 2,
     "metadata": {},
     "output_type": "execute_result"
    }
   ],
   "source": [
    "# The CFG's non-terminals are types.\n",
    "\n",
    "s, n, tv, itv = Ty('s'), Ty('n'), Ty('tv'), Ty('itv')\n",
    "\n",
    "# The CFG's production rules are boxes.\n",
    "\n",
    "r0 = Box('r0', s, n @ itv)\n",
    "r1 = Box('r1', itv, tv @ n)\n",
    "\n",
    "# We model the words as effects, i.e. boxes with empty codomains.\n",
    "\n",
    "Alice = Box('Alice', n, Ty())\n",
    "loves = Box('loves', tv, Ty())\n",
    "Bob = Box('Bob', n, Ty())\n",
    "\n",
    "# A syntax tree is a diagram!\n",
    "\n",
    "syntax_tree = r0 >> Id(n) @ r1\n",
    "sentence = syntax_tree >> Alice @ loves @ Bob\n",
    "sentence.draw(aspect='auto')"
   ]
  },
  {
   "cell_type": "code",
   "execution_count": 3,
   "metadata": {},
   "outputs": [
    {
     "data": {
      "text/plain": [
       "Monoid(1.0)"
      ]
     },
     "execution_count": 3,
     "metadata": {},
     "output_type": "execute_result"
    }
   ],
   "source": [
    "\"\"\"\n",
    "We define monoid elements as a subclass of Box.\n",
    "It is enough to override __init__, __repr__, then, tensor and id.\n",
    "\"\"\"\n",
    "\n",
    "class Monoid(Box):\n",
    "    def __init__(self, m):\n",
    "        self.m = m\n",
    "        super().__init__(m, Ty(), Ty())\n",
    "\n",
    "    def __repr__(self):\n",
    "        return \"Monoid({})\".format(self.m)\n",
    "    \n",
    "    def then(self, other):\n",
    "        if not isinstance(other, Monoid):\n",
    "            import pdb; pdb.set_trace()\n",
    "            raise ValueError\n",
    "        return Monoid(self.m * other.m)\n",
    "    \n",
    "    def tensor(self, other):\n",
    "        return self.then(other)\n",
    "    \n",
    "    @staticmethod\n",
    "    def id(x):\n",
    "        if x != Ty():\n",
    "            raise ValueError\n",
    "        return Monoid(1)\n",
    "\n",
    "# Now we can take arbitrary diagrams with Monoid boxes.\n",
    "# Both tensor and composition are given by product, the unit is 1.\n",
    "Monoid(2) @ Monoid.id(Ty()) >> Monoid(5) @ Monoid(0.1)"
   ]
  },
  {
   "cell_type": "code",
   "execution_count": 4,
   "metadata": {},
   "outputs": [
    {
     "data": {
      "text/plain": [
       "Monoid(0.5)"
      ]
     },
     "execution_count": 4,
     "metadata": {},
     "output_type": "execute_result"
    }
   ],
   "source": [
    "\"\"\"\n",
    "We define monoid functors as a subclass of monoidal functors. \n",
    "\"\"\"\n",
    "\n",
    "class MonoidFunctor(Functor):\n",
    "    def __init__(self, ob, ar):\n",
    "        super().__init__(ob, ar, ar_factory=Monoid)\n",
    "\n",
    "ob = {x: Ty() for x in [s, n, tv, itv]}\n",
    "ar = {r0: Monoid(0.25), r1: Monoid(2.0)}\n",
    "ar.update({w: Monoid(1) for w in [Alice, loves, Bob]})\n",
    "\n",
    "F = MonoidFunctor(ob, ar)\n",
    "F(sentence)"
   ]
  }
 ],
 "metadata": {
  "kernelspec": {
   "display_name": "Python 3",
   "language": "python",
   "name": "python3"
  },
  "language_info": {
   "codemirror_mode": {
    "name": "ipython",
    "version": 3
   },
   "file_extension": ".py",
   "mimetype": "text/x-python",
   "name": "python",
   "nbconvert_exporter": "python",
   "pygments_lexer": "ipython3",
   "version": "3.8.5"
  }
 },
 "nbformat": 4,
 "nbformat_minor": 2
}
