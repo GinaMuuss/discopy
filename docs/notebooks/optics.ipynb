{
 "cells": [
  {
   "cell_type": "markdown",
   "metadata": {},
   "source": [
    "# Implementing linear optics"
   ]
  },
  {
   "cell_type": "code",
   "execution_count": 1,
   "metadata": {},
   "outputs": [],
   "source": [
    "import numpy as np\n",
    "from discopy import optics\n",
    "from discopy.optics import Id, MZI, PhaseShift, BeamSplitter"
   ]
  },
  {
   "cell_type": "markdown",
   "metadata": {},
   "source": [
    "Build an optical network using beam splitters, phase shifters and Mach-Zender interferometers."
   ]
  },
  {
   "cell_type": "code",
   "execution_count": 2,
   "metadata": {
    "scrolled": false
   },
   "outputs": [
    {
     "name": "stdout",
     "output_type": "stream",
     "text": [
      "Build a simple optical network:\n"
     ]
    },
    {
     "data": {
      "image/png": "[encoded data removed]",
      "text/plain": [
       "<Figure size 432x288 with 1 Axes>"
      ]
     },
     "metadata": {
      "needs_background": "light"
     },
     "output_type": "display_data"
    }
   ],
   "source": [
    "print(\"Build a simple optical network:\")\n",
    "\n",
    "network = MZI(0.3, 0.4) >> PhaseShift(0.8) @ Id(1) >>  BeamSplitter(0.4)\n",
    "\n",
    "network.draw(draw_type_labels=False)"
   ]
  },
  {
   "cell_type": "code",
   "execution_count": 3,
   "metadata": {},
   "outputs": [
    {
     "name": "stdout",
     "output_type": "stream",
     "text": [
      "Compute the amplitude with 3 photons, input [1, 2] and output [2, 1]:\n",
      "(-0.29209762512832627+0.020714057607149807j)\n",
      "\n",
      "Compute the output distribution with input [1, 2]\n",
      "[0, 3] 0.06585350977536815\n",
      "[1, 2] 0.84684633542349\n",
      "[2, 1] 0.08575009478816055\n",
      "[3, 0] 0.0015500600129819025\n"
     ]
    }
   ],
   "source": [
    "print(\"Compute the amplitude with 3 photons, input [1, 2] and output [2, 1]:\")\n",
    "amplitude = network.amp(3, [1, 2], [2, 1])\n",
    "print(amplitude)\n",
    " \n",
    "print(\"\\nCompute the output distribution with input [1, 2]\")\n",
    "probs = []\n",
    "for i in range(4):\n",
    "    amplitude = network.amp(3, [1, 2], [i, 3 - i])\n",
    "    prob = np.absolute(amplitude) ** 2\n",
    "    print([i, 3 - i], prob)\n",
    "    probs += [prob]\n",
    "assert np.allclose(sum(probs), 1.)"
   ]
  },
  {
   "cell_type": "markdown",
   "metadata": {},
   "source": [
    "We now build the Vienna chip of https://www.nature.com/articles/s41534-019-0179-2"
   ]
  },
  {
   "cell_type": "code",
   "execution_count": 4,
   "metadata": {
    "scrolled": false
   },
   "outputs": [],
   "source": [
    "def build_chip(params):   \n",
    "    chip = Id(26)\n",
    "    for i in range(11):\n",
    "        boxes = Id()\n",
    "        for j in range(3 + i):\n",
    "            boxes = boxes @ MZI(*params[i, j])\n",
    "        chip = chip >> Id(10 - i) @ boxes @ Id(10 - i)\n",
    "    return chip"
   ]
  },
  {
   "cell_type": "code",
   "execution_count": 5,
   "metadata": {
    "scrolled": true
   },
   "outputs": [
    {
     "name": "stdout",
     "output_type": "stream",
     "text": [
      "Initialise the chip with random parameters\n"
     ]
    },
    {
     "data": {
      "image/png": "[encoded data removed]",
      "text/plain": [
       "<Figure size 432x288 with 1 Axes>"
      ]
     },
     "metadata": {
      "needs_background": "light"
     },
     "output_type": "display_data"
    }
   ],
   "source": [
    "print(\"Initialise the chip with random parameters\")\n",
    "params = np.random.rand(11, 13, 2)\n",
    "chip = build_chip(params)\n",
    "chip.draw(draw_type_labels=False, draw_box_labels=False)"
   ]
  },
  {
   "cell_type": "code",
   "execution_count": 6,
   "metadata": {
    "scrolled": true
   },
   "outputs": [
    {
     "name": "stdout",
     "output_type": "stream",
     "text": [
      "Calculate the amplitude of an input-output pair with 4 photons:\n",
      "(-0.001627706164648192+0.0010816131856901997j)\n"
     ]
    }
   ],
   "source": [
    "n_photons = 4\n",
    "x = [0 for i in range(10)] + [0, 0, 1, 3, 0, 0] + [0 for i in range(10)] # input occupation numbers\n",
    "y = [0 for i in range(10)] + [0, 1, 0, 2, 1, 0] + [0 for i in range(10)] # output occupation numbers\n",
    "\n",
    "amplitude = chip.amp(n_photons, x, y)\n",
    "\n",
    "print(\"Calculate the amplitude of an input-output pair with 4 photons:\")\n",
    "print(amplitude)"
   ]
  },
  {
   "cell_type": "markdown",
   "metadata": {},
   "source": [
    "We can also use thewalrus for the computation of the permanent"
   ]
  },
  {
   "cell_type": "code",
   "execution_count": 7,
   "metadata": {
    "scrolled": true
   },
   "outputs": [
    {
     "data": {
      "text/plain": [
       "(-0.0016277061646481916+0.001081613185690199j)"
      ]
     },
     "execution_count": 7,
     "metadata": {},
     "output_type": "execute_result"
    }
   ],
   "source": [
    "import thewalrus\n",
    "from thewalrus import perm\n",
    "\n",
    "chip.amp(n_photons, x, y, permanent=perm)"
   ]
  },
  {
   "cell_type": "code",
   "execution_count": null,
   "metadata": {},
   "outputs": [],
   "source": []
  }
 ],
 "metadata": {
  "kernelspec": {
   "display_name": "Python 3",
   "language": "python",
   "name": "python3"
  },
  "language_info": {
   "codemirror_mode": {
    "name": "ipython",
    "version": 3
   },
   "file_extension": ".py",
   "mimetype": "text/x-python",
   "name": "python",
   "nbconvert_exporter": "python",
   "pygments_lexer": "ipython3",
   "version": "3.7.4"
  }
 },
 "nbformat": 4,
 "nbformat_minor": 2
}
