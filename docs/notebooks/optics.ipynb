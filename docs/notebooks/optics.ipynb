{
 "cells": [
  {
   "cell_type": "markdown",
   "metadata": {},
   "source": [
    "# Implementing linear optics"
   ]
  },
  {
   "cell_type": "code",
   "execution_count": 3,
   "metadata": {},
   "outputs": [],
   "source": [
    "import numpy as np\n",
    "from scipy.linalg import block_diag\n",
    "\n",
    "from discopy import monoidal\n",
    "from discopy.monoidal import PRO\n",
    "from discopy.tensor import Dim"
   ]
  },
  {
   "cell_type": "code",
   "execution_count": 4,
   "metadata": {},
   "outputs": [],
   "source": [
    "@monoidal.Diagram.subclass\n",
    "class OpticsDiagram(monoidal.Diagram):\n",
    "    \"\"\"\n",
    "    Diagram with beam splitters and phases.\n",
    "    \"\"\"\n",
    "    def __repr__(self):\n",
    "        return super().__repr__().replace('Diagram', 'OpticsDiagram')\n",
    "    \n",
    "    @property\n",
    "    def array(self):\n",
    "        \"\"\" \n",
    "        The array corresponding to the diagram.\n",
    "        Builds a block diagonal matrix for each layer and then multiplies them in sequence.\n",
    "        \"\"\"\n",
    "        scan, array = self.dom, np.identity(len(self.dom))\n",
    "        for box, off in zip(self.boxes, self.offsets):\n",
    "            left, right = len(scan[:off]), len(scan[off + len(box.dom):])\n",
    "            array = np.matmul(array, block_diag(np.identity(left), box.array, np.identity(right)))\n",
    "        return array\n",
    "    \n",
    "class OpticsBox(OpticsDiagram, monoidal.Box):\n",
    "    def __init__(self, name, dom, cod, data, **params):\n",
    "        if not isinstance(dom, PRO):\n",
    "            raise TypeError(messages.type_err(PRO, dom))\n",
    "        if not isinstance(cod, PRO):\n",
    "            raise TypeError(messages.type_err(PRO, cod))\n",
    "        monoidal.Box.__init__(self, name, dom, cod, data=data, **params)\n",
    "        OpticsDiagram.__init__(self, dom, cod, [self], [0], layers=self.layers)\n",
    "\n",
    "    def __repr__(self):\n",
    "        return super().__repr__().replace('Box', 'OpticsBox')\n",
    "    \n",
    "    @property\n",
    "    def array(self):\n",
    "        \"\"\" The array inside the box. \"\"\"\n",
    "        if isinstance(self, PhaseShift):\n",
    "            return np.array(np.exp(self.data[0] * 1j))\n",
    "        if isinstance(self, BeamSplitter):\n",
    "            cos, sin = np.cos(self.data[0]), np.sin(self.data[0])\n",
    "            return np.array([cos, -sin, sin, cos]).reshape((2, 2))\n",
    "        return np.array(self.data).reshape(Dim(len(self.dom)) @ Dim(len(self.cod)) or (1, ))\n",
    "\n",
    "class Id(monoidal.Id, OpticsDiagram):\n",
    "    \"\"\" Identity tensor.Diagram \"\"\"\n",
    "    def __init__(self, dom=PRO()):\n",
    "        monoidal.Id.__init__(self, dom)\n",
    "        OpticsDiagram.__init__(self, dom, dom, [], [], layers=cat.Id(dom))\n",
    "        \n",
    "class PhaseShift(OpticsBox):\n",
    "    def __init__(self, phase):\n",
    "        super().__init__('Phase shift', PRO(1), PRO(1), [phase])  \n",
    "\n",
    "        \n",
    "class BeamSplitter(OpticsBox):\n",
    "    def __init__(self, angle):\n",
    "        super().__init__('Beam splitter', PRO(2), PRO(2), [angle])"
   ]
  },
  {
   "cell_type": "code",
   "execution_count": 5,
   "metadata": {},
   "outputs": [
    {
     "data": {
      "image/png": "[encoded data removed]",
      "text/plain": [
       "<Figure size 432x288 with 1 Axes>"
      ]
     },
     "metadata": {
      "needs_background": "light"
     },
     "output_type": "display_data"
    },
    {
     "data": {
      "text/plain": [
       "array([[ 0.27896958+0.32657455j, -0.87499017-0.22342167j],\n",
       "       [ 0.66076206+0.61556359j,  0.42553092+0.05829583j]])"
      ]
     },
     "execution_count": 5,
     "metadata": {},
     "output_type": "execute_result"
    }
   ],
   "source": [
    "MZI = Id(PRO(1)) @ PhaseShift(0.5) >> BeamSplitter(0.6) >> PhaseShift(0.5) @ Id(PRO(1)) >> BeamSplitter(0.6)\n",
    "MZI.draw()\n",
    "MZI.array"
   ]
  },
  {
   "cell_type": "code",
   "execution_count": null,
   "metadata": {},
   "outputs": [],
   "source": []
  }
 ],
 "metadata": {
  "kernelspec": {
   "display_name": "Python 3",
   "language": "python",
   "name": "python3"
  },
  "language_info": {
   "codemirror_mode": {
    "name": "ipython",
    "version": 3
   },
   "file_extension": ".py",
   "mimetype": "text/x-python",
   "name": "python",
   "nbconvert_exporter": "python",
   "pygments_lexer": "ipython3",
   "version": "3.7.4"
  }
 },
 "nbformat": 4,
 "nbformat_minor": 2
}
