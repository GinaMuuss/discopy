{
 "cells": [
  {
   "cell_type": "markdown",
   "metadata": {},
   "source": [
    "# Implementing linear optics"
   ]
  },
  {
   "cell_type": "code",
   "execution_count": 2,
   "metadata": {},
   "outputs": [],
   "source": [
    "import numpy as np\n",
    "from discopy import optics\n",
    "from discopy.optics import Id, MZI, PhaseShift, BeamSplitter"
   ]
  },
  {
   "cell_type": "markdown",
   "metadata": {},
   "source": [
    "Build an optical network using beam splitters, phase shifters and Mach-Zender interferometers."
   ]
  },
  {
   "cell_type": "code",
   "execution_count": 3,
   "metadata": {
    "scrolled": false
   },
   "outputs": [
    {
     "name": "stdout",
     "output_type": "stream",
     "text": [
      "Build a simple optical network:\n"
     ]
    },
    {
     "data": {
      "image/png": "[encoded data removed]",
      "text/plain": [
       "<Figure size 432x288 with 1 Axes>"
      ]
     },
     "metadata": {
      "needs_background": "light"
     },
     "output_type": "display_data"
    }
   ],
   "source": [
    "print(\"Build a simple optical network:\")\n",
    "\n",
    "network = lambda x: MZI(x[0], x[1]) >> PhaseShift(x[2]) @ Id(1) >>  BeamSplitter(x[3])\n",
    "\n",
    "network([0.2, 0.4, 0.5, 0.7]).draw(draw_type_labels=False)"
   ]
  },
  {
   "cell_type": "code",
   "execution_count": 7,
   "metadata": {},
   "outputs": [
    {
     "name": "stdout",
     "output_type": "stream",
     "text": [
      "Initialise random parameters for the network:\n",
      "[4.82345323 0.00578546 3.95977131 3.84342133]\n",
      "Compute the amplitude with 3 photons, input [1, 2] and output [2, 1]:\n",
      "(-0.5926548327216249-0.10625315212392426j)\n",
      "\n",
      "Compute the output distribution with input [1, 2]\n",
      "[0, 3] 0.037692776726339264\n",
      "[1, 2] 0.321921871411266\n",
      "[2, 1] 0.36252948308456695\n",
      "[3, 0] 0.2778558687778274\n"
     ]
    }
   ],
   "source": [
    "print(\"Initialise random parameters for the network:\")\n",
    "x = np.random.uniform(low=0.0, high=2*np.pi, size=4)\n",
    "print(x)\n",
    "\n",
    "print(\"Compute the amplitude with 3 photons, input [1, 2] and output [2, 1]:\")\n",
    "amplitude = network(x).amp(3, [1, 2], [2, 1])\n",
    "print(amplitude)\n",
    " \n",
    "print(\"\\nCompute the output distribution with input [1, 2]\")\n",
    "probs = []\n",
    "for i in range(4):\n",
    "    amplitude = network(x).amp(3, [1, 2], [i, 3 - i])\n",
    "    prob = np.absolute(amplitude) ** 2\n",
    "    print([i, 3 - i], prob)\n",
    "    probs += [prob]\n",
    "assert np.allclose(sum(probs), 1.)"
   ]
  },
  {
   "cell_type": "markdown",
   "metadata": {},
   "source": [
    "We now build the Vienna chip of https://www.nature.com/articles/s41534-019-0179-2"
   ]
  },
  {
   "cell_type": "code",
   "execution_count": 8,
   "metadata": {
    "scrolled": false
   },
   "outputs": [],
   "source": [
    "def build_vienna_chip(params):   \n",
    "    chip = Id(26)\n",
    "    for i in range(11):\n",
    "        boxes = Id()\n",
    "        for j in range(3 + i):\n",
    "            boxes = boxes @ MZI(*params[i, j])\n",
    "        chip = chip >> Id(10 - i) @ boxes @ Id(10 - i)\n",
    "    return chip"
   ]
  },
  {
   "cell_type": "code",
   "execution_count": 9,
   "metadata": {
    "scrolled": true
   },
   "outputs": [
    {
     "name": "stdout",
     "output_type": "stream",
     "text": [
      "Initialise the chip with random parameters\n"
     ]
    },
    {
     "data": {
      "image/png": "[encoded data removed]",
      "text/plain": [
       "<Figure size 432x288 with 1 Axes>"
      ]
     },
     "metadata": {
      "needs_background": "light"
     },
     "output_type": "display_data"
    }
   ],
   "source": [
    "print(\"Initialise the chip with random parameters\")\n",
    "params = np.random.rand(11, 13, 2)\n",
    "chip = build_vienna_chip(params)\n",
    "chip.draw(draw_type_labels=False, draw_box_labels=False)"
   ]
  },
  {
   "cell_type": "code",
   "execution_count": 10,
   "metadata": {
    "scrolled": true
   },
   "outputs": [
    {
     "name": "stdout",
     "output_type": "stream",
     "text": [
      "Calculate the amplitude of an input-output pair with 4 photons:\n",
      "(0.0006555262666523419-0.0004666096929114741j)\n"
     ]
    }
   ],
   "source": [
    "n_photons = 4\n",
    "x = [0 for i in range(10)] + [0, 0, 1, 3, 0, 0] + [0 for i in range(10)] # input occupation numbers\n",
    "y = [0 for i in range(10)] + [0, 1, 0, 2, 1, 0] + [0 for i in range(10)] # output occupation numbers\n",
    "\n",
    "amplitude = chip.amp(n_photons, x, y)\n",
    "\n",
    "print(\"Calculate the amplitude of an input-output pair with 4 photons:\")\n",
    "print(amplitude)"
   ]
  },
  {
   "cell_type": "markdown",
   "metadata": {},
   "source": [
    "We can also use thewalrus for the computation of the permanent"
   ]
  },
  {
   "cell_type": "code",
   "execution_count": 15,
   "metadata": {
    "scrolled": true
   },
   "outputs": [
    {
     "data": {
      "text/plain": [
       "(-0.00042703368462758125+0.0001325159839002238j)"
      ]
     },
     "execution_count": 15,
     "metadata": {},
     "output_type": "execute_result"
    }
   ],
   "source": [
    "import thewalrus\n",
    "from thewalrus import perm\n",
    "\n",
    "chip.amp(n_photons, x, y, permanent=perm)"
   ]
  },
  {
   "cell_type": "code",
   "execution_count": 16,
   "metadata": {},
   "outputs": [],
   "source": [
    "# Given width and depth this code builds an array of Mach Zender interferometers\n",
    "\n",
    "def build_chip(width, depth, params):   \n",
    "    chip = Id(width)\n",
    "    if width % 2 == 0:\n",
    "        for i in range(depth):\n",
    "            boxes = Id()\n",
    "            if i % 2 == 0:\n",
    "                for j in range(int(width / 2)):\n",
    "                    boxes =  boxes @ MZI(*params[i, j])\n",
    "            else:\n",
    "                for j in range(int(width / 2) - 1):\n",
    "                    boxes = boxes @ MZI(*params[i, j])\n",
    "                boxes = Id(1) @ boxes @ Id(1)\n",
    "            chip = chip >> boxes\n",
    "    else: \n",
    "        for i in range(depth):\n",
    "            boxes = Id()\n",
    "            for j in range(int(width / 2)):\n",
    "                    boxes =  boxes @ MZI(*params[i, j])  \n",
    "            if i % 2 == 0:\n",
    "                boxes = boxes @ Id(1)\n",
    "            else:\n",
    "                boxes = Id(1) @ boxes\n",
    "            chip = chip >> boxes\n",
    "    return chip"
   ]
  },
  {
   "cell_type": "code",
   "execution_count": 18,
   "metadata": {},
   "outputs": [
    {
     "data": {
      "image/png": "[encoded data removed]",
      "text/plain": [
       "<Figure size 432x288 with 1 Axes>"
      ]
     },
     "metadata": {
      "needs_background": "light"
     },
     "output_type": "display_data"
    }
   ],
   "source": [
    "width = 8\n",
    "depth = 14\n",
    "params = np.random.rand(depth, int(width / 2), 2)\n",
    "chip = build_chip(width, depth, params)\n",
    "chip.draw(draw_type_labels=False, draw_box_labels=False)"
   ]
  },
  {
   "cell_type": "code",
   "execution_count": null,
   "metadata": {},
   "outputs": [],
   "source": []
  }
 ],
 "metadata": {
  "kernelspec": {
   "display_name": "Python 3",
   "language": "python",
   "name": "python3"
  },
  "language_info": {
   "codemirror_mode": {
    "name": "ipython",
    "version": 3
   },
   "file_extension": ".py",
   "mimetype": "text/x-python",
   "name": "python",
   "nbconvert_exporter": "python",
   "pygments_lexer": "ipython3",
   "version": "3.7.4"
  }
 },
 "nbformat": 4,
 "nbformat_minor": 2
}
