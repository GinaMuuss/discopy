{
 "cells": [
  {
   "cell_type": "markdown",
   "metadata": {},
   "source": [
    "# Implementing linear optics"
   ]
  },
  {
   "cell_type": "code",
   "execution_count": 1,
   "metadata": {},
   "outputs": [],
   "source": [
    "import numpy as np\n",
    "from scipy.linalg import block_diag\n",
    "\n",
    "from discopy import cat, monoidal\n",
    "from discopy.monoidal import PRO\n",
    "from discopy.tensor import Dim"
   ]
  },
  {
   "cell_type": "code",
   "execution_count": 2,
   "metadata": {},
   "outputs": [],
   "source": [
    "# code for computing the permanent from https://github.com/scipy/scipy/issues/7151\n",
    "def npperm(M):\n",
    "    n = M.shape[0]\n",
    "    d = np.ones(n)\n",
    "    j =  0\n",
    "    s = 1\n",
    "    f = np.arange(n)\n",
    "    v = M.sum(axis=0)\n",
    "    p = np.prod(v)\n",
    "    while (j < n-1):\n",
    "        v -= 2*d[j]*M[j]\n",
    "        d[j] = -d[j]\n",
    "        s = -s\n",
    "        prod = np.prod(v)\n",
    "        p += s*prod\n",
    "        f[0] = 0\n",
    "        f[j] = f[j+1]\n",
    "        f[j+1] = j+1\n",
    "        j = f[0]\n",
    "    return p/2**(n-1) "
   ]
  },
  {
   "cell_type": "code",
   "execution_count": 3,
   "metadata": {},
   "outputs": [],
   "source": [
    "@monoidal.Diagram.subclass\n",
    "class OpticsDiagram(monoidal.Diagram):\n",
    "    \"\"\"\n",
    "    Diagram with beam splitters and phases.\n",
    "    \"\"\"\n",
    "    def __repr__(self):\n",
    "        return super().__repr__().replace('Diagram', 'OpticsDiagram')\n",
    "    \n",
    "    @property\n",
    "    def array(self):\n",
    "        \"\"\" \n",
    "        The array corresponding to the diagram.\n",
    "        Builds a block diagonal matrix for each layer and then multiplies them in sequence.\n",
    "        \"\"\"\n",
    "        scan, array = self.dom, np.identity(len(self.dom))\n",
    "        for box, off in zip(self.boxes, self.offsets):\n",
    "            left, right = len(scan[:off]), len(scan[off + len(box.dom):])\n",
    "            array = np.matmul(array, block_diag(np.identity(left), box.array, np.identity(right)))\n",
    "        return array\n",
    "    \n",
    "    def amp(self, n_photons, x, y, permanent=npperm):\n",
    "        \"Evaluates the amplitude of x >> self >> y where x, y are lists of natural numbers summing to n_photons\"\n",
    "        if sum(x) != sum(y):\n",
    "            return np.array(0)\n",
    "        n_modes = len(self.dom)\n",
    "        assert len(x) == len(y) == n_modes\n",
    "        unitary = self.array\n",
    "        matrix = np.stack([unitary[:, i] for i in range(n_modes) for j in range(y[i])], axis=1)\n",
    "        matrix = np.stack([matrix[i] for i in range(n_modes) for j in range(x[i])], axis=0)\n",
    "        divisor = np.sqrt(np.prod([np.math.factorial(n) for n in x + y]))\n",
    "        amp = permanent(matrix) / divisor\n",
    "        return amp    \n",
    "    \n",
    "class OpticsBox(OpticsDiagram, monoidal.Box):\n",
    "    def __init__(self, name, dom, cod, data, **params):\n",
    "        if not isinstance(dom, PRO):\n",
    "            raise TypeError(messages.type_err(PRO, dom))\n",
    "        if not isinstance(cod, PRO):\n",
    "            raise TypeError(messages.type_err(PRO, cod))\n",
    "        monoidal.Box.__init__(self, name, dom, cod, data=data, **params)\n",
    "        OpticsDiagram.__init__(self, dom, cod, [self], [0], layers=self.layers)\n",
    "\n",
    "    def __repr__(self):\n",
    "        return super().__repr__().replace('Box', 'OpticsBox')\n",
    "    \n",
    "    @property\n",
    "    def array(self):\n",
    "        \"\"\" The array inside the box. \"\"\"\n",
    "        if isinstance(self, PhaseShift):\n",
    "            return np.array(np.exp(self.data[0] * 1j))\n",
    "        if isinstance(self, BeamSplitter):\n",
    "            cos, sin = np.cos(self.data[0] / 2), np.sin(self.data[0] / 2)\n",
    "            return np.array([sin, cos, cos, -sin]).reshape((2, 2))\n",
    "        if isinstance(self, MZI):\n",
    "            exp, cos, sin = np.exp(1j *self.data[0]), np.cos(self.data[1] / 2), np.sin(self.data[1] / 2)\n",
    "            return np.array([exp * sin, exp * cos, cos, -sin]).reshape((2, 2))\n",
    "        return np.array(self.data).reshape(Dim(len(self.dom)) @ Dim(len(self.cod)) or (1, ))\n",
    "\n",
    "class Id(monoidal.Id, OpticsDiagram):\n",
    "    \"\"\" Identity tensor.Diagram \"\"\"\n",
    "    def __init__(self, dom=PRO()):\n",
    "        monoidal.Id.__init__(self, dom)\n",
    "        OpticsDiagram.__init__(self, dom, dom, [], [], layers=cat.Id(dom))\n",
    "        \n",
    "class PhaseShift(OpticsBox):\n",
    "    def __init__(self, phase):\n",
    "        super().__init__('Phase shift', PRO(1), PRO(1), [phase])  \n",
    "\n",
    "        \n",
    "class BeamSplitter(OpticsBox):\n",
    "    def __init__(self, angle):\n",
    "        super().__init__('Beam splitter', PRO(2), PRO(2), [angle])\n",
    "        \n",
    "class MZI(OpticsBox):\n",
    "    def __init__(self, phase, angle):\n",
    "        super().__init__('MZI', PRO(2), PRO(2), [phase, angle])\n",
    "    "
   ]
  },
  {
   "cell_type": "code",
   "execution_count": 4,
   "metadata": {},
   "outputs": [
    {
     "name": "stdout",
     "output_type": "stream",
     "text": [
      "0.019811434686576455\n",
      "0.265527531852589\n",
      "0.4293220669216679\n",
      "0.265527531852589\n",
      "0.01981143468657651\n"
     ]
    },
    {
     "data": {
      "text/plain": [
       "0.9999999999999989"
      ]
     },
     "execution_count": 4,
     "metadata": {},
     "output_type": "execute_result"
    }
   ],
   "source": [
    "amps = []\n",
    "for i in [0, 1, 2, 3, 4]:\n",
    "    amplitude = MZI(0.3, 0.5).amp(4, [2, 2], [i, 4-i])\n",
    "    amps += [np.absolute(amplitude) **2]\n",
    "    print(np.absolute(amplitude) **2)\n",
    "sum(amps)"
   ]
  },
  {
   "cell_type": "code",
   "execution_count": 5,
   "metadata": {},
   "outputs": [
    {
     "name": "stdout",
     "output_type": "stream",
     "text": [
      "0.01981143468657656\n",
      "0.2655275318525892\n",
      "0.4293220669216681\n",
      "0.2655275318525891\n",
      "0.019811434686576517\n"
     ]
    },
    {
     "data": {
      "text/plain": [
       "0.9999999999999996"
      ]
     },
     "execution_count": 5,
     "metadata": {},
     "output_type": "execute_result"
    }
   ],
   "source": [
    "mach = BeamSplitter(0.5) >> Id(PRO(1)) @ PhaseShift(0.3)\n",
    "amps = []\n",
    "for i in [0, 1, 2, 3, 4]:\n",
    "    amplitude = mach.amp(4, [2, 2], [i, 4-i])\n",
    "    amps += [np.absolute(amplitude) **2]\n",
    "    print(np.absolute(amplitude) **2)\n",
    "sum(amps)"
   ]
  },
  {
   "cell_type": "code",
   "execution_count": 6,
   "metadata": {},
   "outputs": [
    {
     "name": "stdout",
     "output_type": "stream",
     "text": [
      "0.019811434686576503\n",
      "0.2655275318525891\n",
      "0.4293220669216682\n",
      "0.2655275318525891\n",
      "0.01981143468657651\n"
     ]
    },
    {
     "data": {
      "text/plain": [
       "0.9999999999999993"
      ]
     },
     "execution_count": 6,
     "metadata": {},
     "output_type": "execute_result"
    }
   ],
   "source": [
    "# alternatively, we can compute the permanent using Xanadu's thewalrus\n",
    "import thewalrus\n",
    "from thewalrus import perm\n",
    "amps = []\n",
    "for i in [0, 1, 2, 3, 4]:\n",
    "    amplitude = MZI(0.3, 0.5).amp(4, [2, 2], [i, 4-i], permanent=perm)\n",
    "    amps += [np.absolute(amplitude) **2]\n",
    "    print(np.absolute(amplitude) **2)\n",
    "sum(amps)"
   ]
  },
  {
   "cell_type": "code",
   "execution_count": null,
   "metadata": {},
   "outputs": [],
   "source": []
  }
 ],
 "metadata": {
  "kernelspec": {
   "display_name": "Python 3",
   "language": "python",
   "name": "python3"
  },
  "language_info": {
   "codemirror_mode": {
    "name": "ipython",
    "version": 3
   },
   "file_extension": ".py",
   "mimetype": "text/x-python",
   "name": "python",
   "nbconvert_exporter": "python",
   "pygments_lexer": "ipython3",
   "version": "3.7.4"
  }
 },
 "nbformat": 4,
 "nbformat_minor": 2
}
