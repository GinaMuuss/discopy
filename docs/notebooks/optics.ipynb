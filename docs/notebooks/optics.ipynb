{
 "cells": [
  {
   "cell_type": "markdown",
   "metadata": {},
   "source": [
    "# Implementing linear optics"
   ]
  },
  {
   "cell_type": "code",
   "execution_count": 45,
   "metadata": {},
   "outputs": [],
   "source": [
    "from discopy import optics"
   ]
  },
  {
   "cell_type": "code",
   "execution_count": 55,
   "metadata": {
    "scrolled": false
   },
   "outputs": [
    {
     "data": {
      "image/png": "[encoded data removed]",
      "text/plain": [
       "<Figure size 432x288 with 1 Axes>"
      ]
     },
     "metadata": {
      "needs_background": "light"
     },
     "output_type": "display_data"
    }
   ],
   "source": [
    "modes =  PRO(26)\n",
    "chip = Id(modes)\n",
    "chip = chip >> Id()\n",
    "        "
   ]
  },
  {
   "cell_type": "code",
   "execution_count": 51,
   "metadata": {},
   "outputs": [
    {
     "name": "stdout",
     "output_type": "stream",
     "text": [
      "[0, 4] 0.019811434686576455\n",
      "[1, 3] 0.265527531852589\n",
      "[2, 2] 0.4293220669216679\n",
      "[3, 1] 0.265527531852589\n",
      "[4, 0] 0.01981143468657651\n"
     ]
    },
    {
     "data": {
      "text/plain": [
       "0.9999999999999989"
      ]
     },
     "execution_count": 51,
     "metadata": {},
     "output_type": "execute_result"
    }
   ],
   "source": []
  },
  {
   "cell_type": "code",
   "execution_count": 52,
   "metadata": {},
   "outputs": [
    {
     "name": "stdout",
     "output_type": "stream",
     "text": [
      "0.019811434686576503\n",
      "0.2655275318525891\n",
      "0.4293220669216682\n",
      "0.2655275318525891\n",
      "0.01981143468657651\n"
     ]
    },
    {
     "data": {
      "text/plain": [
       "0.9999999999999993"
      ]
     },
     "execution_count": 52,
     "metadata": {},
     "output_type": "execute_result"
    }
   ],
   "source": [
    "# alternatively, we can compute the permanent using Xanadu's thewalrus\n",
    "import thewalrus\n",
    "from thewalrus import perm\n",
    "\n",
    "probs = []\n",
    "for i in [0, 1, 2, 3, 4]:\n",
    "    amplitude = MZI(0.3, 0.5).amp(4, [2, 2], [i, 4-i], permanent=perm)\n",
    "    probs += [np.absolute(amplitude) **2]\n",
    "    print(np.absolute(amplitude) **2)\n",
    "sum(amps)"
   ]
  }
 ],
 "metadata": {
  "kernelspec": {
   "display_name": "Python 3",
   "language": "python",
   "name": "python3"
  },
  "language_info": {
   "codemirror_mode": {
    "name": "ipython",
    "version": 3
   },
   "file_extension": ".py",
   "mimetype": "text/x-python",
   "name": "python",
   "nbconvert_exporter": "python",
   "pygments_lexer": "ipython3",
   "version": "3.7.4"
  }
 },
 "nbformat": 4,
 "nbformat_minor": 2
}
