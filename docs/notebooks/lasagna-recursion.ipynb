{
 "cells": [
  {
   "cell_type": "markdown",
   "metadata": {},
   "source": [
    "# Lasagna & Recursion"
   ]
  },
  {
   "cell_type": "markdown",
   "metadata": {},
   "source": [
    "## The first layer"
   ]
  },
  {
   "cell_type": "code",
   "execution_count": null,
   "metadata": {},
   "outputs": [],
   "source": [
    "from discopy import Ty, Id, Box\n",
    "\n",
    "lasagna, ragu, sheet, sheets = map(Ty, 'lasagna ragu sheet sheets'.split())\n",
    "\n",
    "stack = Box('STACK', sheet @ lasagna, lasagna)\n",
    "take = Box('TAKE', ragu, ragu @ ragu)\n",
    "spread = Box('SPREAD', lasagna @ ragu, lasagna)\n",
    "\n",
    "lasagna_layer = stack @ take >> spread @ Id(ragu)\n",
    "lasagna_layer.draw()"
   ]
  },
  {
   "cell_type": "markdown",
   "metadata": {},
   "source": [
    "## The next layer with a functor"
   ]
  },
  {
   "cell_type": "code",
   "execution_count": null,
   "metadata": {},
   "outputs": [],
   "source": [
    "from discopy import Functor\n",
    "\n",
    "start = Box('KEEP ON GOING!', sheets @ lasagna @ ragu, lasagna)\n",
    "\n",
    "Next = Functor(\n",
    "    ob=lambda x:\n",
    "        sheets @ sheet if x == sheets else x,\n",
    "    ar=lambda f:\n",
    "        Id(sheets) @ lasagna_layer >> start\n",
    "        if f == start else f)\n",
    "\n",
    "two_layers = Next(Next(start))\n",
    "two_layers.draw()"
   ]
  },
  {
   "cell_type": "markdown",
   "metadata": {},
   "source": [
    "## The complete recipe"
   ]
  },
  {
   "cell_type": "code",
   "execution_count": null,
   "metadata": {},
   "outputs": [],
   "source": [
    "store = Box(\"STORE\", ragu, Ty())\n",
    "\n",
    "Stop = Functor(\n",
    "    ob=lambda x: Ty() if x == sheets else x,\n",
    "    ar=lambda f: Id(lasagna) @ store if f == start else f)\n",
    "\n",
    "complete_recipe = start\n",
    "for _ in range(3):\n",
    "    complete_recipe = Next(complete_recipe)\n",
    "complete_recipe = Stop(complete_recipe)\n",
    "\n",
    "complete_recipe.draw()"
   ]
  },
  {
   "cell_type": "code",
   "execution_count": null,
   "metadata": {},
   "outputs": [],
   "source": []
  }
 ],
 "metadata": {
  "kernelspec": {
   "display_name": "Python 3",
   "language": "python",
   "name": "python3"
  },
  "language_info": {
   "codemirror_mode": {
    "name": "ipython",
    "version": 3
   },
   "file_extension": ".py",
   "mimetype": "text/x-python",
   "name": "python",
   "nbconvert_exporter": "python",
   "pygments_lexer": "ipython3",
   "version": "3.8.5"
  }
 },
 "nbformat": 4,
 "nbformat_minor": 2
}
