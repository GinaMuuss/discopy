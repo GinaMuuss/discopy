{
 "cells": [
  {
   "cell_type": "markdown",
   "metadata": {},
   "source": [
    "# Crema di Mascarpone\n",
    "\n",
    "Inspired by Pawel's blogpost [Crema di Mascarpone and Diagrammatic Reasoning](https://graphicallinearalgebra.net/2015/05/06/crema-di-mascarpone-rules-of-the-game-part-2-and-diagrammatic-reasoning/)."
   ]
  },
  {
   "cell_type": "markdown",
   "metadata": {},
   "source": [
    "## A simple recipe"
   ]
  },
  {
   "cell_type": "code",
   "execution_count": null,
   "metadata": {},
   "outputs": [],
   "source": [
    "from discopy import Ty, Box, Id\n",
    "\n",
    "egg, white, yolk = Ty('egg'), Ty('white'), Ty('yolk')\n",
    "sugar, mascarpone = Ty('sugar'), Ty('mascarpone')\n",
    "yolky_paste, thick_paste = Ty('yolky_paste'), Ty('thick_paste')\n",
    "crema_di_mascarpone = Ty('crema_di_mascarpone')\n",
    "\n",
    "crack = Box('crack', egg, white @ yolk)\n",
    "beat = Box('beat', yolk @ sugar, yolky_paste)\n",
    "whisk = Box('whisk', white, white)\n",
    "stir = Box('stir', yolky_paste @ mascarpone, thick_paste)\n",
    "fold = Box('fold', white @ thick_paste, crema_di_mascarpone)\n",
    "\n",
    "\n",
    "recipe = crack @ Id(sugar @ mascarpone)\\\n",
    "    >> whisk @ beat @ Id(mascarpone)\\\n",
    "    >> Id(white) @ stir\\\n",
    "    >> fold\n",
    "\n",
    "recipe.draw(aspect='auto')"
   ]
  },
  {
   "cell_type": "markdown",
   "metadata": {},
   "source": [
    "## Cracking two eggs with a swap"
   ]
  },
  {
   "cell_type": "code",
   "execution_count": null,
   "metadata": {},
   "outputs": [],
   "source": [
    "from discopy import Swap\n",
    "\n",
    "merge = lambda x: Box('merge', x @ x, x)\n",
    "\n",
    "crack_two_eggs = crack @ crack\\\n",
    "    >> Id(white) @ Swap(yolk, white) @ Id(yolk)\\\n",
    "    >> merge(white) @ merge(yolk)\n",
    "\n",
    "crack_two_eggs.draw()"
   ]
  },
  {
   "cell_type": "markdown",
   "metadata": {},
   "source": [
    "## Applying a substitution functor"
   ]
  },
  {
   "cell_type": "code",
   "execution_count": null,
   "metadata": {},
   "outputs": [],
   "source": [
    "from discopy import Functor\n",
    "\n",
    "ob = lambda x: egg @ egg if x == egg else x\n",
    "ar = lambda f: crack_two_eggs if f == crack else f\n",
    "F = Functor(ob, ar)\n",
    "F(recipe).draw(aspect='auto', figsize=(6, 6))"
   ]
  }
 ],
 "metadata": {
  "kernelspec": {
   "display_name": "Python 3",
   "language": "python",
   "name": "python3"
  },
  "language_info": {
   "codemirror_mode": {
    "name": "ipython",
    "version": 3
   },
   "file_extension": ".py",
   "mimetype": "text/x-python",
   "name": "python",
   "nbconvert_exporter": "python",
   "pygments_lexer": "ipython3",
   "version": "3.8.5"
  }
 },
 "nbformat": 4,
 "nbformat_minor": 2
}
