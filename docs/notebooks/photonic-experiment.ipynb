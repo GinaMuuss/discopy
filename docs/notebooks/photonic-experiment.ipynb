{
 "cells": [
  {
   "cell_type": "code",
   "execution_count": 12,
   "metadata": {},
   "outputs": [],
   "source": [
    "import numpy as np\n",
    "from discopy import optics\n",
    "from discopy.optics import Box, Id, MZI"
   ]
  },
  {
   "cell_type": "code",
   "execution_count": 13,
   "metadata": {},
   "outputs": [
    {
     "name": "stdout",
     "output_type": "stream",
     "text": [
      "The basic generators are Mach Zender interferometers defined by (phase, angle):\n",
      "optics.Box('MZI', PRO(2), PRO(2), data=[3.141592653589793, 3.141592653589793])\n",
      "\n",
      "We can compose them in sequence or in parallel:\n"
     ]
    },
    {
     "data": {
      "image/png": "[encoded data removed]",
      "text/plain": [
       "<Figure size 432x288 with 1 Axes>"
      ]
     },
     "metadata": {
      "needs_background": "light"
     },
     "output_type": "display_data"
    },
    {
     "name": "stdout",
     "output_type": "stream",
     "text": [
      "\n",
      "And evaluate the amplitude on given input/output occupation numbers:\n",
      "input = [0, 1, 1, 0] \n",
      "output = [0, 1, 1, 0]\n",
      "amplitude = (0.9999999999999999-2.449293598294706e-16j)\n",
      "probability = 0.9999999999999998\n"
     ]
    }
   ],
   "source": [
    "print(\"The basic generators are Mach Zender interferometers defined by (phase, angle):\")\n",
    "mzi = MZI(np.pi, np.pi)\n",
    "print(repr(mzi))\n",
    "\n",
    "print(\"\\nWe can compose them in sequence or in parallel:\")\n",
    "composition = mzi @ mzi >> Id(1) @ mzi @ Id(1)\n",
    "composition.draw(draw_type_labels=False)\n",
    "\n",
    "print(\"\\nAnd evaluate the amplitude on given input/output occupation numbers:\")\n",
    "x = [0, 1, 1, 0]\n",
    "y = [0, 1, 1, 0]\n",
    "print(\"input = {} \\noutput = {}\".format(x, y))\n",
    "\n",
    "amplitude = composition.amp(2, x, y)\n",
    "print(\"amplitude = {}\".format(amplitude))\n",
    "print(\"probability = {}\".format(np.absolute(amplitude)**2))"
   ]
  },
  {
   "cell_type": "code",
   "execution_count": 14,
   "metadata": {},
   "outputs": [
    {
     "name": "stdout",
     "output_type": "stream",
     "text": [
      "Given width and depth we can build a chip, i.e. an array of Mach Zender interferometers:\n"
     ]
    },
    {
     "data": {
      "image/png": "[encoded data removed]",
      "text/plain": [
       "<Figure size 432x288 with 1 Axes>"
      ]
     },
     "metadata": {
      "needs_background": "light"
     },
     "output_type": "display_data"
    }
   ],
   "source": [
    "print(\"Given width and depth we can build a chip, i.e. an array of Mach Zender interferometers:\")\n",
    "# Given width and depth this code builds an array of Mach Zender interferometers\n",
    "\n",
    "def build_chip(width, depth, params):   \n",
    "    chip = Id(width)\n",
    "    if width % 2 == 0:\n",
    "        for i in range(depth):\n",
    "            boxes = Id()\n",
    "            if i % 2 == 0:\n",
    "                for j in range(int(width / 2)):\n",
    "                    boxes =  boxes @ MZI(*params[i, j])\n",
    "            else:\n",
    "                for j in range(int(width / 2) - 1):\n",
    "                    boxes = boxes @ MZI(*params[i, j])\n",
    "                boxes = Id(1) @ boxes @ Id(1)\n",
    "            chip = chip >> boxes\n",
    "    else: \n",
    "        for i in range(depth):\n",
    "            boxes = Id()\n",
    "            for j in range(int(width / 2)):\n",
    "                    boxes =  boxes @ MZI(*params[i, j])  \n",
    "            if i % 2 == 0:\n",
    "                boxes = boxes @ Id(1)\n",
    "            else:\n",
    "                boxes = Id(1) @ boxes\n",
    "            chip = chip >> boxes\n",
    "    return chip\n",
    "\n",
    "width = 8\n",
    "depth = 14\n",
    "def random_params(width, depth):\n",
    "    return np.random.uniform(low=0.0, high=2*np.pi, size=(depth, int(width / 2), 2))\n",
    "params0 = random_params(width, depth)\n",
    "chip0 = build_chip(width, depth, params0)\n",
    "chip0.draw(draw_type_labels=False, draw_box_labels=False)"
   ]
  },
  {
   "cell_type": "code",
   "execution_count": 15,
   "metadata": {},
   "outputs": [
    {
     "name": "stdout",
     "output_type": "stream",
     "text": [
      "Chips of the same width can be composed:\n"
     ]
    },
    {
     "data": {
      "image/png": "[encoded data removed]",
      "text/plain": [
       "<Figure size 432x288 with 1 Axes>"
      ]
     },
     "metadata": {
      "needs_background": "light"
     },
     "output_type": "display_data"
    }
   ],
   "source": [
    "# Two chips can be composed in sequence with >>\n",
    "params1 = random_params(width, depth)\n",
    "chip1 = build_chip(width, depth, params1)\n",
    "print(\"Chips of the same width can be composed:\")\n",
    "(chip0 >> chip1).draw(draw_type_labels=False, draw_box_labels=False)"
   ]
  },
  {
   "cell_type": "code",
   "execution_count": 16,
   "metadata": {},
   "outputs": [
    {
     "name": "stdout",
     "output_type": "stream",
     "text": [
      "Choose entities and relations:\n",
      "['Alice', 'Bob', 'Claire', 'Dave']\n",
      "['loves', 'hates', 'kills']\n",
      "This defines a language of subject-verb-object sentences:\n"
     ]
    },
    {
     "data": {
      "text/plain": [
       "[('Alice', 'loves', 'Alice'),\n",
       " ('Alice', 'loves', 'Bob'),\n",
       " ('Alice', 'loves', 'Claire'),\n",
       " ('Alice', 'loves', 'Dave'),\n",
       " ('Alice', 'hates', 'Alice'),\n",
       " ('Alice', 'hates', 'Bob'),\n",
       " ('Alice', 'hates', 'Claire'),\n",
       " ('Alice', 'hates', 'Dave'),\n",
       " ('Alice', 'kills', 'Alice'),\n",
       " ('Alice', 'kills', 'Bob'),\n",
       " ('Alice', 'kills', 'Claire'),\n",
       " ('Alice', 'kills', 'Dave'),\n",
       " ('Bob', 'loves', 'Alice'),\n",
       " ('Bob', 'loves', 'Bob'),\n",
       " ('Bob', 'loves', 'Claire'),\n",
       " ('Bob', 'loves', 'Dave'),\n",
       " ('Bob', 'hates', 'Alice'),\n",
       " ('Bob', 'hates', 'Bob'),\n",
       " ('Bob', 'hates', 'Claire'),\n",
       " ('Bob', 'hates', 'Dave'),\n",
       " ('Bob', 'kills', 'Alice'),\n",
       " ('Bob', 'kills', 'Bob'),\n",
       " ('Bob', 'kills', 'Claire'),\n",
       " ('Bob', 'kills', 'Dave'),\n",
       " ('Claire', 'loves', 'Alice'),\n",
       " ('Claire', 'loves', 'Bob'),\n",
       " ('Claire', 'loves', 'Claire'),\n",
       " ('Claire', 'loves', 'Dave'),\n",
       " ('Claire', 'hates', 'Alice'),\n",
       " ('Claire', 'hates', 'Bob'),\n",
       " ('Claire', 'hates', 'Claire'),\n",
       " ('Claire', 'hates', 'Dave'),\n",
       " ('Claire', 'kills', 'Alice'),\n",
       " ('Claire', 'kills', 'Bob'),\n",
       " ('Claire', 'kills', 'Claire'),\n",
       " ('Claire', 'kills', 'Dave'),\n",
       " ('Dave', 'loves', 'Alice'),\n",
       " ('Dave', 'loves', 'Bob'),\n",
       " ('Dave', 'loves', 'Claire'),\n",
       " ('Dave', 'loves', 'Dave'),\n",
       " ('Dave', 'hates', 'Alice'),\n",
       " ('Dave', 'hates', 'Bob'),\n",
       " ('Dave', 'hates', 'Claire'),\n",
       " ('Dave', 'hates', 'Dave'),\n",
       " ('Dave', 'kills', 'Alice'),\n",
       " ('Dave', 'kills', 'Bob'),\n",
       " ('Dave', 'kills', 'Claire'),\n",
       " ('Dave', 'kills', 'Dave')]"
      ]
     },
     "execution_count": 16,
     "metadata": {},
     "output_type": "execute_result"
    }
   ],
   "source": [
    "print(\"Choose entities and relations:\")\n",
    "\n",
    "E = [\"Alice\", \"Bob\", \"Claire\", \"Dave\"]\n",
    "print(E)\n",
    "R = [\"loves\", \"hates\", \"kills\"]\n",
    "print(R)\n",
    "W = E + R\n",
    "\n",
    "print(\"This defines a language of subject-verb-object sentences:\")\n",
    "\n",
    "triples = [(s, v, o) for s in E for v in R for o in E]\n",
    "triples"
   ]
  },
  {
   "cell_type": "code",
   "execution_count": 17,
   "metadata": {},
   "outputs": [
    {
     "name": "stdout",
     "output_type": "stream",
     "text": [
      "Hardware hyperparameters:\n",
      " width: 4 \n",
      " number of photons: 2 \n",
      " input occupations: [0, 1, 1, 0] \n",
      " output occupations: [0, 1, 1, 0]\n"
     ]
    }
   ],
   "source": [
    "# Now we construct a mapping to photonic chips\n",
    "\n",
    "width = 4\n",
    "n_photons = 2\n",
    "x = [0, 1, 1, 0] # input occupation numbers\n",
    "y = x # output occupation numbers\n",
    "\n",
    "print(\"Hardware hyperparameters:\")\n",
    "print(\" width: {} \\n number of photons: {} \\n input occupations: {} \\n output occupations: {}\".format(width, n_photons, x, y))"
   ]
  },
  {
   "cell_type": "code",
   "execution_count": 18,
   "metadata": {},
   "outputs": [
    {
     "name": "stdout",
     "output_type": "stream",
     "text": [
      "Linguistic hyperparameters:\n",
      " number of entities: 4 \n",
      " number of relations: 3\n",
      " depth for each word: 5\n"
     ]
    }
   ],
   "source": [
    "# Given a depth for words and parameters, we have a mapping from words to photonic chips:\n",
    "depth = 5 # depth for each word \n",
    "print(\"Linguistic hyperparameters:\")\n",
    "print(\" number of entities: {} \\n number of relations: {}\\n depth for each word: {}\".format(len(E), len(R), depth))"
   ]
  },
  {
   "cell_type": "code",
   "execution_count": 19,
   "metadata": {
    "scrolled": true
   },
   "outputs": [
    {
     "name": "stdout",
     "output_type": "stream",
     "text": [
      "Initialised random parameters of shape: (7, 5, 2, 2)\n",
      "\n",
      "number of words: 7 \n",
      "depth for each word: 5\n",
      "max number of MZIs per layer : 2 \n",
      "number of params per MZI: 2\n",
      "\n",
      "\n",
      "Total number of parameters: 140\n"
     ]
    }
   ],
   "source": [
    "params = np.random.uniform(low=0.0, high=np.pi, size=(len(W), depth, int(width / 2), 2))\n",
    "print(\"Initialised random parameters of shape: {}\\n\".format(np.shape(params)))\n",
    "\n",
    "print(\"number of words: {} \\ndepth for each word: {}\\nmax number of MZIs per layer : {} \\nnumber of params per MZI: {}\\n\\n\".format(*np.shape(params)))\n",
    "# getting Product \n",
    "def prod(val) : \n",
    "    res = 1 \n",
    "    for ele in val: \n",
    "        res *= ele \n",
    "    return res \n",
    "print(\"Total number of parameters: {}\".format(prod(np.shape(params))))\n",
    "\n",
    "# The parameters define a mapping from words to chips.\n",
    "functor = lambda depth, params: {W[i] : build_chip(width, depth, params[i]) for i in range(len(W))}\n",
    "F = functor(depth, params)"
   ]
  },
  {
   "cell_type": "code",
   "execution_count": 20,
   "metadata": {},
   "outputs": [
    {
     "name": "stdout",
     "output_type": "stream",
     "text": [
      "`Bob' is sent to the following chip:\n"
     ]
    },
    {
     "data": {
      "image/png": "[encoded data removed]",
      "text/plain": [
       "<Figure size 432x288 with 1 Axes>"
      ]
     },
     "metadata": {
      "needs_background": "light"
     },
     "output_type": "display_data"
    },
    {
     "name": "stdout",
     "output_type": "stream",
     "text": [
      "The triple `Alice loves Bob' is sent to the following chip:\n"
     ]
    },
    {
     "data": {
      "image/png": "[encoded data removed]",
      "text/plain": [
       "<Figure size 432x288 with 1 Axes>"
      ]
     },
     "metadata": {
      "needs_background": "light"
     },
     "output_type": "display_data"
    }
   ],
   "source": [
    "print(\"`Bob' is sent to the following chip:\")\n",
    "F[\"Bob\"].draw(draw_type_labels=False, draw_box_labels=False)\n",
    "print(\"The triple `Alice loves Bob' is sent to the following chip:\")\n",
    "(F[\"Alice\"] >> F[\"loves\"] >> F[\"Bob\"]).draw(draw_type_labels=False, draw_box_labels=False)"
   ]
  },
  {
   "cell_type": "code",
   "execution_count": 21,
   "metadata": {},
   "outputs": [
    {
     "name": "stdout",
     "output_type": "stream",
     "text": [
      "'Alice loves Bob' evaluates to the the score:\n"
     ]
    },
    {
     "data": {
      "text/plain": [
       "0.0592934643820317"
      ]
     },
     "execution_count": 21,
     "metadata": {},
     "output_type": "execute_result"
    }
   ],
   "source": [
    "# With the mapping F we can evaluate a triple:\n",
    "evaluate = lambda F, triple: np.absolute((F[triple[0]] >> F[triple[1]] >> F[triple[2]]).amp(n_photons, x, y))**2\n",
    "\n",
    "print(\"'Alice loves Bob' evaluates to the the score:\")\n",
    "evaluate(F, (\"Alice\", \"loves\", \"Bob\"))"
   ]
  },
  {
   "cell_type": "code",
   "execution_count": 22,
   "metadata": {},
   "outputs": [
    {
     "name": "stdout",
     "output_type": "stream",
     "text": [
      "Get the scores for each triples:\n",
      "0.0024162779004011804 : ('Alice', 'loves', 'Alice')\n",
      "0.0592934643820317 : ('Alice', 'loves', 'Bob')\n",
      "0.014651133478094658 : ('Alice', 'loves', 'Claire')\n",
      "0.008335701910225632 : ('Alice', 'loves', 'Dave')\n",
      "0.28303593476845634 : ('Alice', 'hates', 'Alice')\n",
      "0.04033947614750522 : ('Alice', 'hates', 'Bob')\n",
      "0.18800345352912573 : ('Alice', 'hates', 'Claire')\n",
      "0.04287204240992409 : ('Alice', 'hates', 'Dave')\n",
      "0.12493087163733341 : ('Alice', 'kills', 'Alice')\n",
      "0.05305184501742064 : ('Alice', 'kills', 'Bob')\n",
      "0.0037920391693388044 : ('Alice', 'kills', 'Claire')\n",
      "0.06850781153156178 : ('Alice', 'kills', 'Dave')\n",
      "0.1161093060341547 : ('Bob', 'loves', 'Alice')\n",
      "0.0116708393153169 : ('Bob', 'loves', 'Bob')\n",
      "0.009164930977859384 : ('Bob', 'loves', 'Claire')\n",
      "0.16124123027801168 : ('Bob', 'loves', 'Dave')\n",
      "0.24527690583262737 : ('Bob', 'hates', 'Alice')\n",
      "0.032781795611259296 : ('Bob', 'hates', 'Bob')\n",
      "0.17805688000122935 : ('Bob', 'hates', 'Claire')\n",
      "0.021155987332519662 : ('Bob', 'hates', 'Dave')\n",
      "0.009342085989987545 : ('Bob', 'kills', 'Alice')\n",
      "0.2553037741470635 : ('Bob', 'kills', 'Bob')\n",
      "0.015473355596108412 : ('Bob', 'kills', 'Claire')\n",
      "0.11144175402573492 : ('Bob', 'kills', 'Dave')\n",
      "0.023839722882771166 : ('Claire', 'loves', 'Alice')\n",
      "0.01006691329891875 : ('Claire', 'loves', 'Bob')\n",
      "0.059190920621178 : ('Claire', 'loves', 'Claire')\n",
      "0.07793477021201205 : ('Claire', 'loves', 'Dave')\n",
      "0.06377149180433432 : ('Claire', 'hates', 'Alice')\n",
      "0.027577344838561883 : ('Claire', 'hates', 'Bob')\n",
      "0.06184333596062975 : ('Claire', 'hates', 'Claire')\n",
      "0.0729607920792207 : ('Claire', 'hates', 'Dave')\n",
      "0.39503761906273016 : ('Claire', 'kills', 'Alice')\n",
      "0.05243826576545664 : ('Claire', 'kills', 'Bob')\n",
      "0.30400602093155304 : ('Claire', 'kills', 'Claire')\n",
      "0.2662440887347196 : ('Claire', 'kills', 'Dave')\n",
      "0.05326833914058068 : ('Dave', 'loves', 'Alice')\n",
      "0.006551972295374277 : ('Dave', 'loves', 'Bob')\n",
      "0.1624224502587952 : ('Dave', 'loves', 'Claire')\n",
      "0.055167128445132094 : ('Dave', 'loves', 'Dave')\n",
      "0.1476299528619159 : ('Dave', 'hates', 'Alice')\n",
      "0.028226257848011343 : ('Dave', 'hates', 'Bob')\n",
      "0.026384085596232017 : ('Dave', 'hates', 'Claire')\n",
      "0.001835100756730563 : ('Dave', 'hates', 'Dave')\n",
      "0.06022637560240903 : ('Dave', 'kills', 'Alice')\n",
      "0.1877161052200698 : ('Dave', 'kills', 'Bob')\n",
      "0.11554953122180993 : ('Dave', 'kills', 'Claire')\n",
      "0.004039860227937001 : ('Dave', 'kills', 'Dave')\n"
     ]
    }
   ],
   "source": [
    "print(\"Get the scores for each triples:\")\n",
    "for i in range(len(triples)):\n",
    "    print(\"{} : {}\".format(evaluate(F, triples[i]), triples[i]))"
   ]
  },
  {
   "cell_type": "code",
   "execution_count": null,
   "metadata": {},
   "outputs": [],
   "source": []
  }
 ],
 "metadata": {
  "kernelspec": {
   "display_name": "Python 3",
   "language": "python",
   "name": "python3"
  },
  "language_info": {
   "codemirror_mode": {
    "name": "ipython",
    "version": 3
   },
   "file_extension": ".py",
   "mimetype": "text/x-python",
   "name": "python",
   "nbconvert_exporter": "python",
   "pygments_lexer": "ipython3",
   "version": "3.7.4"
  }
 },
 "nbformat": 4,
 "nbformat_minor": 2
}
