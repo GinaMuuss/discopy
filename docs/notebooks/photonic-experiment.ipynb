{
 "cells": [
  {
   "cell_type": "code",
   "execution_count": 1,
   "metadata": {},
   "outputs": [],
   "source": [
    "import numpy as np\n",
    "from discopy import optics\n",
    "from discopy.optics import Box, Id, MZI"
   ]
  },
  {
   "cell_type": "code",
   "execution_count": 2,
   "metadata": {},
   "outputs": [],
   "source": [
    "# Given width and depth this code builds an array of Mach Zender interferometers\n",
    "\n",
    "def build_chip(width, depth, params):   \n",
    "    chip = Id(width)\n",
    "    if width % 2 == 0:\n",
    "        for i in range(depth):\n",
    "            boxes = Id()\n",
    "            if i % 2 == 0:\n",
    "                for j in range(int(width / 2)):\n",
    "                    boxes =  boxes @ MZI(*params[i, j])\n",
    "            else:\n",
    "                for j in range(int(width / 2) - 1):\n",
    "                    boxes = boxes @ MZI(*params[i, j])\n",
    "                boxes = Id(1) @ boxes @ Id(1)\n",
    "            chip = chip >> boxes\n",
    "    else: \n",
    "        for i in range(depth):\n",
    "            boxes = Id()\n",
    "            for j in range(int(width / 2)):\n",
    "                    boxes =  boxes @ MZI(*params[i, j])  \n",
    "            if i % 2 == 0:\n",
    "                boxes = boxes @ Id(1)\n",
    "            else:\n",
    "                boxes = Id(1) @ boxes\n",
    "            chip = chip >> boxes\n",
    "    return chip"
   ]
  },
  {
   "cell_type": "code",
   "execution_count": 3,
   "metadata": {},
   "outputs": [
    {
     "data": {
      "image/png": "[encoded data removed]",
      "text/plain": [
       "<Figure size 432x288 with 1 Axes>"
      ]
     },
     "metadata": {
      "needs_background": "light"
     },
     "output_type": "display_data"
    }
   ],
   "source": [
    "width = 8\n",
    "depth = 14\n",
    "params0 = np.random.rand(depth, int(width / 2), 2)\n",
    "chip0 = build_chip(width, depth, params0)\n",
    "chip0.draw(draw_type_labels=False, draw_box_labels=False)"
   ]
  },
  {
   "cell_type": "code",
   "execution_count": 4,
   "metadata": {},
   "outputs": [
    {
     "data": {
      "image/png": "[encoded data removed]",
      "text/plain": [
       "<Figure size 432x288 with 1 Axes>"
      ]
     },
     "metadata": {
      "needs_background": "light"
     },
     "output_type": "display_data"
    }
   ],
   "source": [
    "# Two chips can be composed in sequence with >>\n",
    "\n",
    "params1 = np.random.rand(depth, int(width / 2), 2)\n",
    "chip1 = build_chip(width, depth, params1)\n",
    "(chip0 >> chip1).draw(draw_type_labels=False, draw_box_labels=False)"
   ]
  },
  {
   "cell_type": "code",
   "execution_count": 46,
   "metadata": {},
   "outputs": [
    {
     "name": "stdout",
     "output_type": "stream",
     "text": [
      "Choose entities and relations:\n",
      "['Alice', 'Bob', 'Claire', 'Dave']\n",
      "['loves', 'hates']\n",
      "This defines a language of subject-verb-object sentences:\n"
     ]
    },
    {
     "data": {
      "text/plain": [
       "[('Alice', 'loves', 'Alice'),\n",
       " ('Alice', 'loves', 'Bob'),\n",
       " ('Alice', 'loves', 'Claire'),\n",
       " ('Alice', 'loves', 'Dave'),\n",
       " ('Alice', 'hates', 'Alice'),\n",
       " ('Alice', 'hates', 'Bob'),\n",
       " ('Alice', 'hates', 'Claire'),\n",
       " ('Alice', 'hates', 'Dave'),\n",
       " ('Bob', 'loves', 'Alice'),\n",
       " ('Bob', 'loves', 'Bob'),\n",
       " ('Bob', 'loves', 'Claire'),\n",
       " ('Bob', 'loves', 'Dave'),\n",
       " ('Bob', 'hates', 'Alice'),\n",
       " ('Bob', 'hates', 'Bob'),\n",
       " ('Bob', 'hates', 'Claire'),\n",
       " ('Bob', 'hates', 'Dave'),\n",
       " ('Claire', 'loves', 'Alice'),\n",
       " ('Claire', 'loves', 'Bob'),\n",
       " ('Claire', 'loves', 'Claire'),\n",
       " ('Claire', 'loves', 'Dave'),\n",
       " ('Claire', 'hates', 'Alice'),\n",
       " ('Claire', 'hates', 'Bob'),\n",
       " ('Claire', 'hates', 'Claire'),\n",
       " ('Claire', 'hates', 'Dave'),\n",
       " ('Dave', 'loves', 'Alice'),\n",
       " ('Dave', 'loves', 'Bob'),\n",
       " ('Dave', 'loves', 'Claire'),\n",
       " ('Dave', 'loves', 'Dave'),\n",
       " ('Dave', 'hates', 'Alice'),\n",
       " ('Dave', 'hates', 'Bob'),\n",
       " ('Dave', 'hates', 'Claire'),\n",
       " ('Dave', 'hates', 'Dave')]"
      ]
     },
     "execution_count": 46,
     "metadata": {},
     "output_type": "execute_result"
    }
   ],
   "source": [
    "print(\"Choose entities and relations:\")\n",
    "\n",
    "E = [\"Alice\", \"Bob\", \"Claire\", \"Dave\"]\n",
    "print(E)\n",
    "R = [\"loves\", \"hates\"]\n",
    "print(R)\n",
    "W = E + R\n",
    "\n",
    "print(\"This defines a language of subject-verb-object sentences:\")\n",
    "\n",
    "triples = [(s, v, o) for s in E for v in R for o in E]\n",
    "triples"
   ]
  },
  {
   "cell_type": "code",
   "execution_count": 54,
   "metadata": {},
   "outputs": [
    {
     "name": "stdout",
     "output_type": "stream",
     "text": [
      "Hardware hyperparameters:\n",
      " width: 4 \n",
      " number of photons: 2 \n",
      " input occupations: [0, 1, 1, 0] \n",
      " output occupations: [0, 1, 1, 0]\n"
     ]
    }
   ],
   "source": [
    "# Now we construct a mapping to photonic chips\n",
    "\n",
    "width = 4\n",
    "n_photons = 2\n",
    "x = [0, 1, 1, 0] # input occupation numbers\n",
    "y = [0, 1, 1, 0] # output occupation numbers\n",
    "\n",
    "print(\"Hardware hyperparameters:\")\n",
    "print(\" width: {} \\n number of photons: {} \\n input occupations: {} \\n output occupations: {}\".format(width, n_photons, x, y))"
   ]
  },
  {
   "cell_type": "code",
   "execution_count": 56,
   "metadata": {},
   "outputs": [
    {
     "name": "stdout",
     "output_type": "stream",
     "text": [
      "Linguistic hyperparameters:\n",
      " number of entities: 4 \n",
      " number of relations: 2\n",
      " depth for each word: 3\n"
     ]
    }
   ],
   "source": [
    "# Given a depth for words and parameters, we have a mapping from words to photonic chips:\n",
    "depth = 3 # depth for each word \n",
    "\n",
    "functor = lambda depth, params: {W[i] : build_chip(width, np.shape(params)[1], params[i]) for i in range(len(W))}\n",
    "\n",
    "print(\"Linguistic hyperparameters:\")\n",
    "print(\" number of entities: {} \\n number of relations: {}\\n depth for each word: {}\".format(len(E), len(R), depth))"
   ]
  },
  {
   "cell_type": "code",
   "execution_count": 57,
   "metadata": {
    "scrolled": true
   },
   "outputs": [
    {
     "name": "stdout",
     "output_type": "stream",
     "text": [
      "Initialised random parameters of shape: (6, 3, 2, 2)\n",
      "\n",
      "number of words: 6 \n",
      "depth for each word: 3\n",
      "max number of MZIs per layer : 2 \n",
      "number of params per MZI: 2\n",
      "\n",
      "\n",
      "Total number of parameters: 72\n",
      "\n"
     ]
    }
   ],
   "source": [
    "params = np.random.rand(len(W), depth, int(width / 2), 2)\n",
    "print(\"Initialised random parameters of shape: {}\\n\".format(np.shape(params)))\n",
    "\n",
    "print(\"number of words: {} \\ndepth for each word: {}\\nmax number of MZIs per layer : {} \\nnumber of params per MZI: {}\\n\\n\".format(*np.shape(params)))\n",
    "\n",
    "# getting Product \n",
    "def prod(val) : \n",
    "    res = 1 \n",
    "    for ele in val: \n",
    "        res *= ele \n",
    "    return res \n",
    "\n",
    "print(\"Total number of parameters: {}\\n\".format(prod(np.shape(params))))\n",
    "\n",
    "F = functor(depth, params)"
   ]
  },
  {
   "cell_type": "code",
   "execution_count": 58,
   "metadata": {},
   "outputs": [
    {
     "name": "stdout",
     "output_type": "stream",
     "text": [
      "The image of Bob is the following chip:\n"
     ]
    },
    {
     "data": {
      "image/png": "[encoded data removed]",
      "text/plain": [
       "<Figure size 432x288 with 1 Axes>"
      ]
     },
     "metadata": {
      "needs_background": "light"
     },
     "output_type": "display_data"
    }
   ],
   "source": [
    "print(\"The image of Bob is the following chip:\")\n",
    "F[\"Bob\"].draw(draw_type_labels=False, draw_box_labels=False)"
   ]
  },
  {
   "cell_type": "code",
   "execution_count": 59,
   "metadata": {},
   "outputs": [
    {
     "name": "stdout",
     "output_type": "stream",
     "text": [
      "Evaluate the triple `Alice loves Bob':\n"
     ]
    },
    {
     "data": {
      "text/plain": [
       "0.507100324066831"
      ]
     },
     "execution_count": 59,
     "metadata": {},
     "output_type": "execute_result"
    }
   ],
   "source": [
    "# With a functor F we can evaluate a triple:\n",
    "\n",
    "evaluate = lambda F, triple: np.absolute((F[triple[0]] >> F[triple[1]] >> F[triple[2]]).amp(n_photons, x, y))**2\n",
    "\n",
    "print(\"Evaluate the triple `Alice loves Bob':\")\n",
    "evaluate(F, (\"Alice\", \"loves\", \"Bob\"))"
   ]
  },
  {
   "cell_type": "code",
   "execution_count": 60,
   "metadata": {},
   "outputs": [
    {
     "name": "stdout",
     "output_type": "stream",
     "text": [
      "Get the scores for each triples:\n",
      "0.44889319685397305 : ('Alice', 'loves', 'Alice')\n",
      "0.507100324066831 : ('Alice', 'loves', 'Bob')\n",
      "0.42832429595340693 : ('Alice', 'loves', 'Claire')\n",
      "0.49950102760705234 : ('Alice', 'loves', 'Dave')\n",
      "0.4128235734575187 : ('Alice', 'hates', 'Alice')\n",
      "0.510588234116155 : ('Alice', 'hates', 'Bob')\n",
      "0.36244176183410487 : ('Alice', 'hates', 'Claire')\n",
      "0.6752926092250792 : ('Alice', 'hates', 'Dave')\n",
      "0.5646870241168632 : ('Bob', 'loves', 'Alice')\n",
      "0.5997665975953831 : ('Bob', 'loves', 'Bob')\n",
      "0.49781411257014835 : ('Bob', 'loves', 'Claire')\n",
      "0.5852184811720511 : ('Bob', 'loves', 'Dave')\n",
      "0.5141760656074458 : ('Bob', 'hates', 'Alice')\n",
      "0.5535550170942259 : ('Bob', 'hates', 'Bob')\n",
      "0.4035279072655946 : ('Bob', 'hates', 'Claire')\n",
      "0.7115656500929479 : ('Bob', 'hates', 'Dave')\n",
      "0.451273273148429 : ('Claire', 'loves', 'Alice')\n",
      "0.5140127004836642 : ('Claire', 'loves', 'Bob')\n",
      "0.2652362619516958 : ('Claire', 'loves', 'Claire')\n",
      "0.4047362394935606 : ('Claire', 'loves', 'Dave')\n",
      "0.28272738513679474 : ('Claire', 'hates', 'Alice')\n",
      "0.3118794504955405 : ('Claire', 'hates', 'Bob')\n",
      "0.16158936335653395 : ('Claire', 'hates', 'Claire')\n",
      "0.4829817410606927 : ('Claire', 'hates', 'Dave')\n",
      "0.5487760771301046 : ('Dave', 'loves', 'Alice')\n",
      "0.601490293195286 : ('Dave', 'loves', 'Bob')\n",
      "0.37941812690835247 : ('Dave', 'loves', 'Claire')\n",
      "0.4435288689025266 : ('Dave', 'loves', 'Dave')\n",
      "0.4047572351918412 : ('Dave', 'hates', 'Alice')\n",
      "0.3956730301041109 : ('Dave', 'hates', 'Bob')\n",
      "0.26924215528305084 : ('Dave', 'hates', 'Claire')\n",
      "0.5772693226087098 : ('Dave', 'hates', 'Dave')\n"
     ]
    }
   ],
   "source": [
    "print(\"Get the scores for each triples:\")\n",
    "for i in range(len(triples)):\n",
    "    print(\"{} : {}\".format(evaluate(F, triples[i]), triples[i]))"
   ]
  },
  {
   "cell_type": "code",
   "execution_count": null,
   "metadata": {},
   "outputs": [],
   "source": []
  }
 ],
 "metadata": {
  "kernelspec": {
   "display_name": "Python 3",
   "language": "python",
   "name": "python3"
  },
  "language_info": {
   "codemirror_mode": {
    "name": "ipython",
    "version": 3
   },
   "file_extension": ".py",
   "mimetype": "text/x-python",
   "name": "python",
   "nbconvert_exporter": "python",
   "pygments_lexer": "ipython3",
   "version": "3.7.4"
  }
 },
 "nbformat": 4,
 "nbformat_minor": 2
}
