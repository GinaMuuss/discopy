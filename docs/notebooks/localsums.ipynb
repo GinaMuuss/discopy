{
 "cells": [
  {
   "cell_type": "markdown",
   "metadata": {},
   "source": [
    "# Local Sums\n",
    "\n"
   ]
  },
  {
   "cell_type": "markdown",
   "metadata": {},
   "source": [
    "## Local Sums in arbitrary categories\n",
    "\n",
    "We defined local sums in arbitrary categories. \n",
    "The requirement we have is that addition distributes over composition.\n",
    "First we define some objects and arrows:"
   ]
  },
  {
   "cell_type": "code",
   "execution_count": 1,
   "metadata": {},
   "outputs": [],
   "source": [
    "from discopy.cat import LocalSum, Ob, Box, Arrow\n",
    "from typing import List, Callable\n",
    "\n",
    "x, y, z = Ob('x'), Ob('y'), Ob('z')\n",
    "f = Box('f', x, y)\n",
    "g = Box('g', x, y)\n",
    "h = Box('h', y, z)\n"
   ]
  },
  {
   "cell_type": "markdown",
   "metadata": {},
   "source": [
    "We can add boxes as follows and then compose them on both sides:"
   ]
  },
  {
   "cell_type": "code",
   "execution_count": 2,
   "metadata": {},
   "outputs": [
    {
     "name": "stdout",
     "output_type": "stream",
     "text": [
      "This is the sum:  ((f) + (g)) \n",
      "With composition from the right:  ((f) + (g))  >> h\n",
      "With composition from the left: h' >>  ((f) + (g)) \n"
     ]
    }
   ],
   "source": [
    "fg = LocalSum([f, g]) \n",
    "print(\"This is the sum:\", fg)\n",
    "k = fg >> h\n",
    "print(\"With composition from the right:\", k)\n",
    "l= Box(\"h'\", z, x) >> fg\n",
    "print(\"With composition from the left:\", l)"
   ]
  },
  {
   "cell_type": "markdown",
   "metadata": {},
   "source": [
    "The addition does distribute over composition. You can distribute to the left and to the right.\n",
    "This implementation is neither memory efficient nor very nice to look at.\n",
    "But it seems to work for now."
   ]
  },
  {
   "cell_type": "code",
   "execution_count": 3,
   "metadata": {},
   "outputs": [
    {
     "name": "stdout",
     "output_type": "stream",
     "text": [
      " ((h' >> f) + (h' >> g)) \n",
      " ((f >> h) + (g >> h)) \n"
     ]
    }
   ],
   "source": [
    "from discopy.localsum_rewriting import distribute_composition_cat\n",
    "\n",
    "print(distribute_composition_cat(l, 1, 0))\n",
    "print(distribute_composition_cat(k, 0, 1))\n"
   ]
  },
  {
   "cell_type": "code",
   "execution_count": null,
   "metadata": {},
   "outputs": [],
   "source": [
    "\n",
    "\n"
   ]
  },
  {
   "cell_type": "markdown",
   "metadata": {},
   "source": [
    "This also works for larger arrows, where we do not want to distribute the entire way and in both directions:"
   ]
  },
  {
   "cell_type": "code",
   "execution_count": 4,
   "metadata": {},
   "outputs": [
    {
     "name": "stdout",
     "output_type": "stream",
     "text": [
      "a >> b >>  ((c) + (d))  >> e >> f >> g\n",
      "a >>  ((b >> c) + (b >> d))  >> e >> f >> g\n",
      "a >> b >>  ((c >> e >> f) + (d >> e >> f))  >> g\n"
     ]
    }
   ],
   "source": [
    "diag = Box(\"a\", x, y) >> Box(\"b\", y, x) >> LocalSum([Box(\"c\", x, z), Box(\"d\", x, z)]) >> Box(\"e\", z, y)>> Box(\"f\", y, y)>> Box(\"g\", y, x)\n",
    "print(diag)\n",
    "print(distribute_composition_cat(diag, 2, 1))\n",
    "print(distribute_composition_cat(diag, 2, 4))"
   ]
  },
  {
   "cell_type": "markdown",
   "metadata": {},
   "source": [
    "Undoing distribution is not supported directly, since for this to work all terms of the sum need to have some part in common.\n",
    "So we use this method for reverting the distribution. "
   ]
  },
  {
   "cell_type": "code",
   "execution_count": 5,
   "metadata": {},
   "outputs": [],
   "source": [
    "# TODO: actually build the thing"
   ]
  },
  {
   "cell_type": "markdown",
   "metadata": {},
   "source": [
    "## Local Sums in monoidal categories\n",
    "\n",
    "For categories with a monoidal structure the addition will distribute over the monoidal product iff the category admits arbitrary biproducts.\n",
    "We basically have that for arrows $A,B,C$ we get $A \\otimes (B + C) = (A \\otimes B ) + (A \\otimes C)$\n",
    "\n",
    "If this is given one may use the following function to pull parts of the diagram in and out of a sum.\n",
    "\n"
   ]
  },
  {
   "cell_type": "code",
   "execution_count": 6,
   "metadata": {},
   "outputs": [],
   "source": [
    "from discopy.monoidal import LocalSum, Ob, Box, Diagram, Ty, Id\n",
    "\n",
    "x, y, z = Ty('x'), Ty('y'), Ty('z')\n",
    "f = Box('f', x, y)\n",
    "g = Box('g', x, y)\n",
    "h = Box('h', y, z)"
   ]
  },
  {
   "cell_type": "code",
   "execution_count": 10,
   "metadata": {},
   "outputs": [
    {
     "ename": "ImportError",
     "evalue": "cannot import name 'distribute_tensor' from 'discopy.localsum_rewriting' (/home/muuss/Data/University/Masterarbeit/discopy/discopy/localsum_rewriting.py)",
     "output_type": "error",
     "traceback": [
      "\u001b[0;31m---------------------------------------------------------------------------\u001b[0m",
      "\u001b[0;31mImportError\u001b[0m                               Traceback (most recent call last)",
      "\u001b[1;32m/home/muuss/Data/University/Masterarbeit/discopy/docs/notebooks/localsums.ipynb Cell 15\u001b[0m in \u001b[0;36m<cell line: 5>\u001b[0;34m()\u001b[0m\n\u001b[1;32m      <a href='vscode-notebook-cell:/home/muuss/Data/University/Masterarbeit/discopy/docs/notebooks/localsums.ipynb#X20sZmlsZQ%3D%3D?line=1'>2</a>\u001b[0m \u001b[39mfrom\u001b[39;00m \u001b[39mdiscopy\u001b[39;00m\u001b[39m.\u001b[39;00m\u001b[39mdrawing\u001b[39;00m \u001b[39mimport\u001b[39;00m diagram2nx\n\u001b[1;32m      <a href='vscode-notebook-cell:/home/muuss/Data/University/Masterarbeit/discopy/docs/notebooks/localsums.ipynb#X20sZmlsZQ%3D%3D?line=2'>3</a>\u001b[0m \u001b[39mimport\u001b[39;00m \u001b[39mnetworkx\u001b[39;00m \u001b[39mas\u001b[39;00m \u001b[39mnx\u001b[39;00m\n\u001b[0;32m----> <a href='vscode-notebook-cell:/home/muuss/Data/University/Masterarbeit/discopy/docs/notebooks/localsums.ipynb#X20sZmlsZQ%3D%3D?line=4'>5</a>\u001b[0m \u001b[39mfrom\u001b[39;00m \u001b[39mdiscopy\u001b[39;00m\u001b[39m.\u001b[39;00m\u001b[39mlocalsum_rewriting\u001b[39;00m \u001b[39mimport\u001b[39;00m distribute_tensor\n\u001b[1;32m      <a href='vscode-notebook-cell:/home/muuss/Data/University/Masterarbeit/discopy/docs/notebooks/localsums.ipynb#X20sZmlsZQ%3D%3D?line=6'>7</a>\u001b[0m diag \u001b[39m=\u001b[39m LocalSum([f, g]) \u001b[39m@\u001b[39m h\n\u001b[1;32m      <a href='vscode-notebook-cell:/home/muuss/Data/University/Masterarbeit/discopy/docs/notebooks/localsums.ipynb#X20sZmlsZQ%3D%3D?line=7'>8</a>\u001b[0m \u001b[39mprint\u001b[39m(diag)\n",
      "\u001b[0;31mImportError\u001b[0m: cannot import name 'distribute_tensor' from 'discopy.localsum_rewriting' (/home/muuss/Data/University/Masterarbeit/discopy/discopy/localsum_rewriting.py)"
     ]
    }
   ],
   "source": [
    "from discopy import rewriting\n",
    "from discopy.drawing import diagram2nx\n",
    "import networkx as nx\n",
    "\n",
    "from discopy.localsum_rewriting import distribute_tensor\n",
    "\n",
    "diag = LocalSum([f, g]) @ h\n",
    "print(diag)\n",
    "print(diag.layers)\n",
    "print(diag.boxes)\n",
    "print(diag.cod)\n",
    "diag = f @ (diag >> Box(\"t\", y @ z, x) >> f) @ g\n",
    "diag = diag.normal_form()\n",
    "print(diag)\n",
    "diag.draw()\n",
    "diag = distribute_tensor(diag, 1, 2)\n",
    "\n",
    "diag.draw()\n"
   ]
  },
  {
   "cell_type": "markdown",
   "metadata": {},
   "source": [
    "Unfortunatly as of now drawing does not work correctly, as you may have noticed above and can again see below:"
   ]
  },
  {
   "cell_type": "code",
   "execution_count": 8,
   "metadata": {},
   "outputs": [
    {
     "name": "stdout",
     "output_type": "stream",
     "text": [
      "a >> b >>  ((c) + (d))  >> e >> f >> g\n"
     ]
    },
    {
     "ename": "NameError",
     "evalue": "name 'distribute_composition_old' is not defined",
     "output_type": "error",
     "traceback": [
      "\u001b[0;31m---------------------------------------------------------------------------\u001b[0m",
      "\u001b[0;31mNameError\u001b[0m                                 Traceback (most recent call last)",
      "\u001b[1;32m/home/muuss/Data/University/Masterarbeit/discopy/docs/notebooks/localsums.ipynb Cell 17\u001b[0m in \u001b[0;36m<cell line: 3>\u001b[0;34m()\u001b[0m\n\u001b[1;32m      <a href='vscode-notebook-cell:/home/muuss/Data/University/Masterarbeit/discopy/docs/notebooks/localsums.ipynb#X22sZmlsZQ%3D%3D?line=0'>1</a>\u001b[0m diag \u001b[39m=\u001b[39m Box(\u001b[39m\"\u001b[39m\u001b[39ma\u001b[39m\u001b[39m\"\u001b[39m, x, y) \u001b[39m>>\u001b[39m Box(\u001b[39m\"\u001b[39m\u001b[39mb\u001b[39m\u001b[39m\"\u001b[39m, y, x) \u001b[39m>>\u001b[39m LocalSum([Box(\u001b[39m\"\u001b[39m\u001b[39mc\u001b[39m\u001b[39m\"\u001b[39m, x, z), Box(\u001b[39m\"\u001b[39m\u001b[39md\u001b[39m\u001b[39m\"\u001b[39m, x, z)]) \u001b[39m>>\u001b[39m Box(\u001b[39m\"\u001b[39m\u001b[39me\u001b[39m\u001b[39m\"\u001b[39m, z, y)\u001b[39m>>\u001b[39m Box(\u001b[39m\"\u001b[39m\u001b[39mf\u001b[39m\u001b[39m\"\u001b[39m, y, y)\u001b[39m>>\u001b[39m Box(\u001b[39m\"\u001b[39m\u001b[39mg\u001b[39m\u001b[39m\"\u001b[39m, y, x)\n\u001b[1;32m      <a href='vscode-notebook-cell:/home/muuss/Data/University/Masterarbeit/discopy/docs/notebooks/localsums.ipynb#X22sZmlsZQ%3D%3D?line=1'>2</a>\u001b[0m \u001b[39mprint\u001b[39m(diag)\n\u001b[0;32m----> <a href='vscode-notebook-cell:/home/muuss/Data/University/Masterarbeit/discopy/docs/notebooks/localsums.ipynb#X22sZmlsZQ%3D%3D?line=2'>3</a>\u001b[0m distribute_composition_old(diag, \u001b[39m2\u001b[39m, \u001b[39m1\u001b[39m, arrow_construction\u001b[39m=\u001b[39m\u001b[39mlambda\u001b[39;00m dom,cod,boxes: Diagram(dom, cod,boxes, [\u001b[39m0\u001b[39m]\u001b[39m*\u001b[39m\u001b[39mlen\u001b[39m(boxes)), localsum_type\u001b[39m=\u001b[39mLocalSum)\u001b[39m.\u001b[39mdraw()\n",
      "\u001b[0;31mNameError\u001b[0m: name 'distribute_composition_old' is not defined"
     ]
    }
   ],
   "source": [
    "diag = Box(\"a\", x, y) >> Box(\"b\", y, x) >> LocalSum([Box(\"c\", x, z), Box(\"d\", x, z)]) >> Box(\"e\", z, y)>> Box(\"f\", y, y)>> Box(\"g\", y, x)\n",
    "print(diag)\n",
    "distribute_composition_cat(diag, 2, 1, arrow_construction=lambda dom,cod,boxes: Diagram(dom, cod,boxes, [0]*len(boxes))).draw()"
   ]
  },
  {
   "cell_type": "code",
   "execution_count": null,
   "metadata": {},
   "outputs": [
    {
     "name": "stdout",
     "output_type": "stream",
     "text": [
      "f @ Id(y @ y @ x) >> Id(y) @ a @ Id(y @ x) >> Id(y) @  ((f) + (g))  @ Id(y @ x) >> Id(y @ y) @ h @ Id(x) >> Id(y) @ t @ Id(x) >> Id(y) @ f @ Id(x) >> Id(y @ y) @ g\n"
     ]
    },
    {
     "data": {
      "image/png": "[encoded data removed]",
      "text/plain": [
       "<Figure size 432x288 with 1 Axes>"
      ]
     },
     "metadata": {},
     "output_type": "display_data"
    },
    {
     "name": "stdout",
     "output_type": "stream",
     "text": [
      "f @ Id(y @ y @ x) >> Id(y) @ a @ Id(y @ x) >> Id(y) @  ((f) + (g))  @ Id(y @ x) >> Id(y @ y) @ h @ Id(x) >> Id(y) @ t @ Id(x) >> Id(y) @ f @ Id(x) >> Id(y @ y) @ g\n"
     ]
    }
   ],
   "source": [
    "from discopy.monoidal import LocalSum, Ob, Box, Diagram\n",
    "def distribute_composition(arrow: Diagram, index_sum: int, distribute_to_index: int, arrow_construction=lambda dom,cod,boxes: Diagram(dom,cod,boxes), localsum_type=LocalSum) -> Arrow:\n",
    "    \"\"\"\n",
    "    Distributes the sum at index_sum to the left with\n",
    "\n",
    "    Parameters\n",
    "    ----------\n",
    "    arrow: Arrow\n",
    "        The arrow to perform the operation on\n",
    "    index_sum: int\n",
    "        The index of the sum to distribute for\n",
    "    distribute_to_index: int\n",
    "        index of the box to distribute into, this needs to be adjacent\n",
    "    arrow_construction: callable\n",
    "        callable returning the arrow equivalent in the relevant category    \n",
    "\n",
    "    Raises\n",
    "    ------\n",
    "      IndexError: The index of sum does not correspond to a box or distribute_to_index is not valid or the box is not adjacent\n",
    "      TypeError: The box at index_sum does not have type sum\n",
    "    \"\"\"\n",
    "    if len(arrow.boxes) <= index_sum or index_sum < 0:\n",
    "        raise IndexError(\"index_sum to large or negative, no such box\")\n",
    "    if len(arrow.boxes) <= distribute_to_index or distribute_to_index < 0:\n",
    "        raise IndexError(\"distribute_to_index to large or negative, no such box\")\n",
    "    if not isinstance(arrow.boxes[index_sum], LocalSum):\n",
    "        raise TypeError(f\"box at index {index_sum} is not a LocalSum\" )\n",
    "\n",
    "def check_if_composing_before(arrow: Diagram, index_before: int, index_after: int):\n",
    "    if len(arrow.boxes) <= index_before or index_before < 0:\n",
    "        raise IndexError(\"index_before to large or negative, no such box\")\n",
    "    if len(arrow.boxes) <= index_after or index_after < 0:\n",
    "        raise IndexError(\"index_after to large or negative, no such box\")\n",
    "    print(arrow)\n",
    "\n",
    "diag = (Box(\"a\", y, x) >> LocalSum([f, g])) @ h\n",
    "diag = f @ (diag >> Box(\"t\", y @ z, x) >> f) @ g\n",
    "diag = diag.normal_form()\n",
    "print(diag)\n",
    "diag.draw()\n",
    "\n",
    "check_if_composing_before(diag, 1, 2)"
   ]
  },
  {
   "cell_type": "code",
   "execution_count": null,
   "metadata": {},
   "outputs": [
    {
     "data": {
      "image/png": "[encoded data removed]",
      "text/plain": [
       "<Figure size 432x288 with 1 Axes>"
      ]
     },
     "metadata": {},
     "output_type": "display_data"
    },
    {
     "data": {
      "text/plain": [
       "Arrow(dom=Ty('y', 'y'), cod=Ty('y', 'x'), boxes=[Layer(Ty(), Box('a', Ty('y'), Ty('x')), Ty('y')), Layer(Ty('x'), Box('b', Ty('y'), Ty('x')), Ty()), Layer(Ty(), LocalSum([Box('f', Ty('x'), Ty('y')), Box('g', Ty('x'), Ty('y'))]), Ty('x'))])"
      ]
     },
     "execution_count": 29,
     "metadata": {},
     "output_type": "execute_result"
    }
   ],
   "source": [
    "diag = (Box(\"a\", y, x) @ Box(\"b\", y, x)) >> ( LocalSum([f, g]) @Id(x) )\n",
    "diag.draw()\n",
    "for x in diag.layers:\n",
    "    print(x)"
   ]
  }
 ],
 "metadata": {
  "kernelspec": {
   "display_name": "Python 3.10.5 ('venv': venv)",
   "language": "python",
   "name": "python3"
  },
  "language_info": {
   "codemirror_mode": {
    "name": "ipython",
    "version": 3
   },
   "file_extension": ".py",
   "mimetype": "text/x-python",
   "name": "python",
   "nbconvert_exporter": "python",
   "pygments_lexer": "ipython3",
   "version": "3.10.6"
  },
  "orig_nbformat": 4,
  "vscode": {
   "interpreter": {
    "hash": "5ac83cfc35272147b62608c5132318b05136533f758cdcae0b6596ba793bfe70"
   }
  }
 },
 "nbformat": 4,
 "nbformat_minor": 2
}
