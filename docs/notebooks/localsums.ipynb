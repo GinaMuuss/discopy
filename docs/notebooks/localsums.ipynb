{
 "cells": [
  {
   "cell_type": "markdown",
   "metadata": {},
   "source": [
    "# Local Sums\n",
    "\n"
   ]
  },
  {
   "cell_type": "markdown",
   "metadata": {},
   "source": [
    "## Local Sums in arbitrary categories\n",
    "\n",
    "We defined local sums in arbitrary categories. \n",
    "The requirement we have is that addition distributes over composition.\n",
    "First we define some objects and arrows:"
   ]
  },
  {
   "cell_type": "code",
   "execution_count": 12,
   "metadata": {},
   "outputs": [],
   "source": [
    "from discopy.cat import LocalSum, Ob, Box, Arrow\n",
    "from typing import List, Callable\n",
    "\n",
    "x, y, z = Ob('x'), Ob('y'), Ob('z')\n",
    "f = Box('f', x, y)\n",
    "g = Box('g', x, y)\n",
    "h = Box('h', y, z)\n"
   ]
  },
  {
   "cell_type": "markdown",
   "metadata": {},
   "source": [
    "We can add boxes as follows and then compose them on both sides:"
   ]
  },
  {
   "cell_type": "code",
   "execution_count": 13,
   "metadata": {},
   "outputs": [
    {
     "name": "stdout",
     "output_type": "stream",
     "text": [
      "This is the sum:  ((f) + (g)) \n",
      "With composition from the right:  ((f) + (g))  >> h\n",
      "With composition from the left: h' >>  ((f) + (g)) \n"
     ]
    }
   ],
   "source": [
    "fg = LocalSum([f, g]) \n",
    "print(\"This is the sum:\", fg)\n",
    "k = fg >> h\n",
    "print(\"With composition from the right:\", k)\n",
    "l= Box(\"h'\", z, x) >> fg\n",
    "print(\"With composition from the left:\", l)"
   ]
  },
  {
   "cell_type": "markdown",
   "metadata": {},
   "source": [
    "The addition does distribute over composition. You can distribute to the left and to the right.\n",
    "This implementation is neither memory efficient nor very nice to look at.\n",
    "But it seems to work for now."
   ]
  },
  {
   "cell_type": "code",
   "execution_count": 14,
   "metadata": {},
   "outputs": [
    {
     "name": "stdout",
     "output_type": "stream",
     "text": [
      " ((h' >> f) + (h' >> g)) \n",
      " ((f >> h) + (g >> h)) \n"
     ]
    }
   ],
   "source": [
    "def distribute_composition(arrow: Arrow, index_sum: int, distribute_up_to: int, arrow_construction=lambda dom,cod,boxes: Arrow(dom,cod,boxes), localsum_type=LocalSum) -> Arrow:\n",
    "    \"\"\"\n",
    "    Distributes the sum at index_sum to the left with\n",
    "\n",
    "    Parameters\n",
    "    ----------\n",
    "    arrow: Arrow\n",
    "        The arrow to perform the operation on\n",
    "    index_sum: int\n",
    "        The index of the sum to distribute for\n",
    "    distribute_up_to: int\n",
    "        index of the last term to distribute\n",
    "    arrow_construction: callable\n",
    "        callable returning the arrow equivalent in the relevant category    \n",
    "\n",
    "    Raises\n",
    "    ------\n",
    "      IndexError: The index of sum does not correspond to a box or distribute_up_to is negative or to large\n",
    "      TypeError: The box at index_sum does not have type sum\n",
    "    \"\"\"\n",
    "    if len(arrow.boxes) <= index_sum or index_sum < 0:\n",
    "        raise IndexError(\"index to large or negative, no such box\")\n",
    "    if (\n",
    "        len(arrow.boxes) <= distribute_up_to\n",
    "        or distribute_up_to < 0\n",
    "        or distribute_up_to == index_sum\n",
    "    ):\n",
    "        raise IndexError(\n",
    "            \"distribute_up_to to large, negative or equal to index_sum, no such box\"\n",
    "        )\n",
    "    if not isinstance(arrow.boxes[index_sum], LocalSum):\n",
    "        raise TypeError(\"box at index %d is not a LocalSum\", index_sum)\n",
    "\n",
    "    if index_sum < distribute_up_to:\n",
    "        # distribute to the right\n",
    "        unit = arrow.boxes[index_sum].__class__(\n",
    "            [], arrow.boxes[index_sum].dom, arrow.boxes[distribute_up_to].cod\n",
    "        )\n",
    "        terms = [\n",
    "            g.then(arrow_construction(arrow.boxes[index_sum + 1].dom, arrow.boxes[distribute_up_to].cod, arrow.boxes[index_sum + 1:distribute_up_to + 1]))\n",
    "            for g in arrow.boxes[index_sum].terms\n",
    "        ]\n",
    "        term = arrow.boxes[index_sum].upgrade(localsum_type(terms))\n",
    "        new_boxes = arrow.boxes[:index_sum] + [term] + arrow.boxes[distribute_up_to + 1 :]\n",
    "        return arrow_construction(\n",
    "            new_boxes[0].dom,\n",
    "            new_boxes[-1].cod,\n",
    "            new_boxes,\n",
    "        )\n",
    "    else:\n",
    "        # distribute to the left\n",
    "        unit = arrow.boxes[index_sum].__class__(\n",
    "            [], arrow.boxes[distribute_up_to].dom, arrow.boxes[index_sum].cod\n",
    "        )\n",
    "        terms = [\n",
    "            arrow_construction(arrow.boxes[distribute_up_to].dom, arrow.boxes[index_sum-1].cod, arrow.boxes[distribute_up_to:index_sum]).then(g)\n",
    "            for g in arrow.boxes[index_sum].terms\n",
    "        ]\n",
    "        term = arrow.boxes[index_sum].upgrade(localsum_type(terms))\n",
    "        new_boxes = arrow.boxes[:distribute_up_to] + [term] + arrow.boxes[index_sum + 1 :]\n",
    "        return arrow_construction(\n",
    "            new_boxes[0].dom,\n",
    "            new_boxes[-1].cod,\n",
    "            new_boxes,\n",
    "        )\n",
    "\n",
    "\n",
    "print(distribute_composition(l, 1, 0))\n",
    "print(distribute_composition(k, 0, 1))\n"
   ]
  },
  {
   "cell_type": "markdown",
   "metadata": {},
   "source": [
    "This also works for larger arrows, where we do not want to distribute the entire way and in both directions:"
   ]
  },
  {
   "cell_type": "code",
   "execution_count": 15,
   "metadata": {},
   "outputs": [
    {
     "name": "stdout",
     "output_type": "stream",
     "text": [
      "a >> b >>  ((c) + (d))  >> e >> f >> g\n",
      "a >>  ((b >> c) + (b >> d))  >> e >> f >> g\n",
      "a >> b >>  ((c >> e >> f) + (d >> e >> f))  >> g\n"
     ]
    }
   ],
   "source": [
    "diag = Box(\"a\", x, y) >> Box(\"b\", y, x) >> LocalSum([Box(\"c\", x, z), Box(\"d\", x, z)]) >> Box(\"e\", z, y)>> Box(\"f\", y, y)>> Box(\"g\", y, x)\n",
    "print(diag)\n",
    "print(distribute_composition(diag, 2, 1))\n",
    "print(distribute_composition(diag, 2, 4))"
   ]
  },
  {
   "cell_type": "markdown",
   "metadata": {},
   "source": [
    "Undoing distribution is not supported directly, since for this to work all terms of the sum need to have some part in common.\n",
    "So we use this method for reverting the distribution. "
   ]
  },
  {
   "cell_type": "code",
   "execution_count": 16,
   "metadata": {},
   "outputs": [],
   "source": [
    "# TODO: actually build the thing"
   ]
  },
  {
   "cell_type": "markdown",
   "metadata": {},
   "source": [
    "## Local Sums in monoidal categories\n",
    "\n",
    "For categories with a monoidal structure the addition will distribute over the monoidal product iff the category admits arbitrary biproducts.\n",
    "We basically have that for arrows $A,B,C$ we get $A \\otimes (B + C) = (A \\otimes B ) + (A \\otimes C)$\n",
    "\n",
    "If this is given one may use the following function to pull parts of the diagram in and out of a sum.\n",
    "\n"
   ]
  },
  {
   "cell_type": "code",
   "execution_count": 17,
   "metadata": {},
   "outputs": [],
   "source": [
    "from discopy.monoidal import LocalSum, Ob, Box, Diagram, Ty, Id\n",
    "\n",
    "x, y, z = Ty('x'), Ty('y'), Ty('z')\n",
    "f = Box('f', x, y)\n",
    "g = Box('g', x, y)\n",
    "h = Box('h', y, z)"
   ]
  },
  {
   "cell_type": "code",
   "execution_count": 18,
   "metadata": {},
   "outputs": [
    {
     "name": "stdout",
     "output_type": "stream",
     "text": [
      " ((f) + (g))  @ Id(y) >> Id(y) @ h\n",
      " ((f) + (g))  @ Id(y) >> Id(y) @ h\n",
      "[LocalSum([Box('f', Ty('x'), Ty('y')), Box('g', Ty('x'), Ty('y'))]), Box('h', Ty('y'), Ty('z'))]\n",
      "y @ z\n",
      "f @ Id(x @ y @ x) >> Id(y) @  ((f) + (g))  @ Id(y @ x) >> Id(y @ y) @ h @ Id(x) >> Id(y) @ t @ Id(x) >> Id(y) @ f @ Id(x) >> Id(y @ y) @ g\n"
     ]
    },
    {
     "data": {
      "image/png": "[encoded data removed]",
      "text/plain": [
       "<Figure size 432x288 with 1 Axes>"
      ]
     },
     "metadata": {},
     "output_type": "display_data"
    },
    {
     "name": "stdout",
     "output_type": "stream",
     "text": [
      "[Box('f', Ty('x'), Ty('y')), LocalSum([Diagram(dom=Ty('x', 'y'), cod=Ty('y', 'z'), boxes=[Box('f', Ty('x'), Ty('y')), Box('h', Ty('y'), Ty('z'))], offsets=[0, 1]), Diagram(dom=Ty('x', 'y'), cod=Ty('y', 'z'), boxes=[Box('g', Ty('x'), Ty('y')), Box('h', Ty('y'), Ty('z'))], offsets=[0, 1])]), Box('t', Ty('y', 'z'), Ty('x')), Box('f', Ty('x'), Ty('y')), Box('g', Ty('x'), Ty('y'))]\n"
     ]
    },
    {
     "data": {
      "image/png": "[encoded data removed]",
      "text/plain": [
       "<Figure size 432x288 with 1 Axes>"
      ]
     },
     "metadata": {},
     "output_type": "display_data"
    }
   ],
   "source": [
    "from discopy import rewriting\n",
    "\n",
    "\n",
    "def distribute_tensor(\n",
    "    diagram: Diagram, index_sum: int, index_of_partner: int\n",
    ") -> Diagram:\n",
    "    \"\"\"\n",
    "    Distributes the sum at index_sum to the left with\n",
    "\n",
    "    Parameters\n",
    "    ----------\n",
    "    arrow: Arrow\n",
    "        The arrow to perform the operation on\n",
    "    index_sum: int\n",
    "        The index of the sum to distribute for\n",
    "    index_of_partner: int\n",
    "        index of the term to distribute\n",
    "\n",
    "    Raises\n",
    "    ------\n",
    "      IndexError: The index of sum does not correspond to a box or index_of_partner is negative or to large\n",
    "      TypeError: The box at index_sum does not have type sum\n",
    "    \"\"\"\n",
    "    if len(diagram.boxes) <= index_sum or index_sum < 0:\n",
    "        raise IndexError(\"invalid index_sum\")\n",
    "    if len(diagram.boxes) <= index_of_partner or index_of_partner < 0:\n",
    "        raise IndexError(\"invalid index_of_partner\")\n",
    "    if index_of_partner == index_sum:\n",
    "        raise IndexError(\"cannot distribte over itself\")\n",
    "    if not isinstance(diagram.boxes[index_sum], LocalSum):\n",
    "        raise TypeError(\"box at index_sum not LocalSum\")\n",
    "    if abs(index_sum - index_of_partner) != 1:\n",
    "        raise IndexError(\n",
    "            \"at the moment distributing is only supported when the boxes are next to one another\"\n",
    "        )\n",
    "\n",
    "    layers_index = list(\n",
    "        range(\n",
    "            diagram.offsets[index_sum],\n",
    "            diagram.offsets[index_sum] + len(diagram.boxes[index_sum].dom.objects),\n",
    "        )\n",
    "    )\n",
    "    layers_partner = list(\n",
    "        range(\n",
    "            diagram.offsets[index_of_partner],\n",
    "            diagram.offsets[index_of_partner]\n",
    "            + len(diagram.boxes[index_of_partner].dom.objects),\n",
    "        )\n",
    "    )\n",
    "\n",
    "    if index_sum < index_of_partner:\n",
    "        if min(layers_index) < min(layers_partner) and max(layers_index) >= min(\n",
    "            layers_partner\n",
    "        ):\n",
    "            raise IndexError(\"the layers overlap! we cannot distribute\")\n",
    "\n",
    "        if min(layers_index) > min(layers_partner) and max(layers_index) <= min(\n",
    "            layers_partner\n",
    "        ):\n",
    "            raise IndexError(\"the layers overlap! we cannot distribute\")\n",
    "\n",
    "    if layers_index[0] < layers_partner[0]:\n",
    "        # tensor from the right\n",
    "        new_terms = (\n",
    "            diagram.boxes[: min(index_sum, index_of_partner)]\n",
    "            + [\n",
    "                LocalSum(\n",
    "                    [\n",
    "                        f.tensor(diagram.boxes[index_of_partner])\n",
    "                        for f in diagram.boxes[index_sum].terms\n",
    "                    ]\n",
    "                )\n",
    "            ]\n",
    "            + diagram.boxes[max(index_sum, index_of_partner) +1:]\n",
    "        )\n",
    "    else:\n",
    "        # tensor from the left\n",
    "        new_terms = (\n",
    "            diagram.boxes[: min(index_sum, index_of_partner)]\n",
    "            + [\n",
    "                LocalSum(\n",
    "                    [\n",
    "                        diagram.boxes[index_of_partner].tensor(f)\n",
    "                        for f in diagram.boxes[index_sum].terms\n",
    "                    ]\n",
    "                )\n",
    "            ]\n",
    "            + diagram.boxes[max(index_sum, index_of_partner)+1 :]\n",
    "        )\n",
    "    new_offsets = (\n",
    "        diagram.offsets[: min(index_sum, index_of_partner)]\n",
    "        + [min(layers_index[0], layers_partner[0])]\n",
    "        + diagram.offsets[max(index_sum, index_of_partner) +1 :]\n",
    "    )\n",
    "    print(new_terms)\n",
    "    return Diagram(diagram.dom, diagram.cod, new_terms, new_offsets)\n",
    "\n",
    "\n",
    "diag = LocalSum([f, g]) @ h\n",
    "print(diag)\n",
    "print(diag.layers)\n",
    "print(diag.boxes)\n",
    "print(diag.cod)\n",
    "diag = f @ (diag >> Box(\"t\", y @ z, x) >> f) @ g\n",
    "print(diag)\n",
    "diag.draw()\n",
    "diag = distribute_tensor(diag, 1, 2)\n",
    "\n",
    "diag.draw()\n"
   ]
  },
  {
   "cell_type": "markdown",
   "metadata": {},
   "source": [
    "Unfortunatly as of now drawing does not work correctly, as you may have noticed above and can again see below:"
   ]
  },
  {
   "cell_type": "code",
   "execution_count": 19,
   "metadata": {},
   "outputs": [
    {
     "name": "stdout",
     "output_type": "stream",
     "text": [
      "a >> b >>  ((c) + (d))  >> e >> f >> g\n"
     ]
    },
    {
     "data": {
      "image/png": "[encoded data removed]",
      "text/plain": [
       "<Figure size 432x288 with 1 Axes>"
      ]
     },
     "metadata": {},
     "output_type": "display_data"
    }
   ],
   "source": [
    "diag = Box(\"a\", x, y) >> Box(\"b\", y, x) >> LocalSum([Box(\"c\", x, z), Box(\"d\", x, z)]) >> Box(\"e\", z, y)>> Box(\"f\", y, y)>> Box(\"g\", y, x)\n",
    "print(diag)\n",
    "distribute_composition(diag, 2, 1, arrow_construction=lambda dom,cod,boxes: Diagram(dom, cod,boxes, [0]*len(boxes)), localsum_type=LocalSum).draw()"
   ]
  }
 ],
 "metadata": {
  "kernelspec": {
   "display_name": "Python 3.10.5 ('venv': venv)",
   "language": "python",
   "name": "python3"
  },
  "language_info": {
   "codemirror_mode": {
    "name": "ipython",
    "version": 3
   },
   "file_extension": ".py",
   "mimetype": "text/x-python",
   "name": "python",
   "nbconvert_exporter": "python",
   "pygments_lexer": "ipython3",
   "version": "3.10.5"
  },
  "orig_nbformat": 4,
  "vscode": {
   "interpreter": {
    "hash": "5ac83cfc35272147b62608c5132318b05136533f758cdcae0b6596ba793bfe70"
   }
  }
 },
 "nbformat": 4,
 "nbformat_minor": 2
}
