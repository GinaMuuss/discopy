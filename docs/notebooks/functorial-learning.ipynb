{
 "cells": [
  {
   "cell_type": "markdown",
   "metadata": {},
   "source": [
    "# functorial-learning"
   ]
  },
  {
   "cell_type": "markdown",
   "metadata": {},
   "source": [
    "## 0. Generate a language\n",
    "\n",
    "We first build the pregroup diagrams for a simple subject-verb-object language."
   ]
  },
  {
   "cell_type": "code",
   "execution_count": 1,
   "metadata": {},
   "outputs": [
    {
     "name": "stdout",
     "output_type": "stream",
     "text": [
      "8*3*8 = 192 sentences:\n",
      "Alice loves Alice\n",
      "Alice loves Bob\n",
      "Alice loves Charlie\n",
      "...\n",
      "Isabel kills Fred\n",
      "Isabel kills George\n",
      "Isabel kills Isabel\n",
      "\n"
     ]
    },
    {
     "data": {
      "image/png": "[encoded data removed]",
      "text/plain": [
       "<Figure size 432x288 with 1 Axes>"
      ]
     },
     "metadata": {},
     "output_type": "display_data"
    },
    {
     "name": "stdout",
     "output_type": "stream",
     "text": [
      "Pregroup diagram for 'Alice loves Bob'\n"
     ]
    }
   ],
   "source": [
    "from discopy import Ty, Word, Cup, Id\n",
    "\n",
    "nouns = [\"Alice\", \"Bob\", \"Charlie\", \"Diane\", \"Eve\", \"Fred\", \"George\", \"Isabel\"]\n",
    "verbs = [\"loves\", \"hates\", \"kills\"]\n",
    "\n",
    "s, n = Ty('s'), Ty('n')\n",
    "tv = n.r @ s @ n.l\n",
    "\n",
    "vocab = [Word(noun, n) for noun in nouns] + [Word(verb, tv) for verb in verbs]\n",
    "\n",
    "grammar = Cup(n, n.r) @ Id(s) @ Cup(n.l, n)\n",
    "\n",
    "sentences = [\n",
    "    \"{} {} {}\".format(subj, verb, obj)\n",
    "    for subj in nouns for verb in verbs for obj in nouns]\n",
    "\n",
    "print(\"{}*{}*{} = {} sentences:\\n{}\\n\".format(\n",
    "    len(nouns), len(verbs), len(nouns), len(sentences), \"\\n\".join(sentences[:3] + [\"...\"] + sentences[-3:])))\n",
    "\n",
    "diagrams = {\n",
    "    sentence: Word(subj, n) @ Word(verb, tv) @ Word(obj, n) >> grammar\n",
    "    for sentence in sentences for subj, verb, obj in [sentence.split(' ')]}\n",
    "\n",
    "diagrams[sentences[1]].draw()\n",
    "print(\"Pregroup diagram for '{}'\".format(sentences[1]))"
   ]
  },
  {
   "cell_type": "markdown",
   "metadata": {},
   "source": [
    "## 1. Build a random dataset\n",
    "\n",
    "We then generate a toy dataset with scalars attached to each diagram.\n",
    "\n",
    "In order to do so, we apply a random functor from Pregroup to Tensor to each diagram in the corpus.\n",
    "\n",
    "A `TensorFunctor` is defined by two mappings `ob` from types to dimension (i.e. hyper-parameters) and `ar` from words to matrices (i.e. parameters)."
   ]
  },
  {
   "cell_type": "code",
   "execution_count": 2,
   "metadata": {},
   "outputs": [],
   "source": [
    "import jax.numpy as np; import numpy; np.random = numpy.random; np.random.seed(42)\n",
    "from discopy import TensorFunctor\n",
    "\n",
    "# N.B. defining ob[tv] is not necessary, indeed F(tv) == F(n) * F(s) * F(n)\n",
    "ob = {n: 2, s: 1, tv: 4}\n",
    "ar0 = {word: np.random.randn(ob[word.cod]) for word in vocab}\n",
    "F0 = TensorFunctor(ob, ar0)\n",
    "\n",
    "def sigmoid(x):\n",
    "    return 1 / (1 + np.exp(-x))\n",
    "\n",
    "dataset = {sentence: sigmoid(F0(diagram).array) for sentence, diagram in diagrams.items()}\n",
    "y_true = [float(y) for y in dataset.values()]"
   ]
  },
  {
   "cell_type": "markdown",
   "metadata": {},
   "source": [
    "Let's have a look at what this random dataset looks like:"
   ]
  },
  {
   "cell_type": "code",
   "execution_count": 3,
   "metadata": {},
   "outputs": [
    {
     "data": {
      "image/png": "[encoded data removed]",
      "text/plain": [
       "<Figure size 432x288 with 1 Axes>"
      ]
     },
     "metadata": {
      "needs_background": "light"
     },
     "output_type": "display_data"
    }
   ],
   "source": [
    "from matplotlib import pyplot as plt\n",
    "\n",
    "plt.hist(y_true, bins=100)\n",
    "plt.show()"
   ]
  },
  {
   "cell_type": "code",
   "execution_count": 4,
   "metadata": {},
   "outputs": [
    {
     "name": "stdout",
     "output_type": "stream",
     "text": [
      "61 true sentences:\n",
      "George kills Alice\n",
      "Isabel kills George\n",
      "George hates Bob\n",
      "...\n",
      "Bob kills Fred\n",
      "George hates Eve\n",
      "Isabel hates Eve\n",
      "\n"
     ]
    }
   ],
   "source": [
    "from random import shuffle\n",
    "\n",
    "delta = 0.1\n",
    "\n",
    "true_sentences = [sentence for sentence in dataset if dataset[sentence] > 0.5 + delta]\n",
    "shuffle(true_sentences)\n",
    "print(\"{} true sentences:\\n{}\\n\".format(\n",
    "    len(true_sentences), \"\\n\".join(true_sentences[:3] + ['...'] + true_sentences[-3:])))"
   ]
  },
  {
   "cell_type": "code",
   "execution_count": 5,
   "metadata": {},
   "outputs": [
    {
     "name": "stdout",
     "output_type": "stream",
     "text": [
      "Does Alice love Bob?\n",
      "No\n"
     ]
    }
   ],
   "source": [
    "print(\"Does Alice love Bob?\\n{}\".format(\n",
    "    \"Yes\" if dataset[\"Alice loves Bob\"] > 0.5 + delta else \"No\"))"
   ]
  },
  {
   "cell_type": "markdown",
   "metadata": {},
   "source": [
    "## 2. Learn the functor from data\n",
    "\n",
    "We split the dataset into training and testing.\n",
    "We forget `F0` and initialise some new random functor.\n",
    "\n",
    "We define the mean squared loss on testing and training set and compile them just-in-time.\n",
    "\n",
    "We use automatic differentiation and vanilla gradient descent to learn the parameters for the functor."
   ]
  },
  {
   "cell_type": "code",
   "execution_count": 6,
   "metadata": {},
   "outputs": [
    {
     "name": "stdout",
     "output_type": "stream",
     "text": [
      "Initial training loss: 0.12394743412733078\n",
      "Initial testing loss: 0.10969964414834976\n"
     ]
    }
   ],
   "source": [
    "from sklearn.model_selection import train_test_split\n",
    "\n",
    "training, testing = train_test_split(sentences, test_size=0.25, random_state=42)\n",
    "\n",
    "def loss(ar, sample=training):\n",
    "    F = TensorFunctor(ob, ar)\n",
    "    y_pred = [sigmoid(F(diagrams[sentence]).array) for sentence in sample]\n",
    "    y_true = [dataset[sentence] for sentence in sample]\n",
    "    return np.mean((np.array(y_true) - np.array(y_pred)) ** 2)\n",
    "\n",
    "ar = {word: np.random.randn(ob[word.cod]) for word in vocab}\n",
    "\n",
    "print(\"Initial training loss: {}\\nInitial testing loss: {}\".format(loss(ar), loss(ar, testing)))"
   ]
  },
  {
   "cell_type": "code",
   "execution_count": 7,
   "metadata": {},
   "outputs": [
    {
     "name": "stdout",
     "output_type": "stream",
     "text": [
      "113 seconds to just-in-time compile the gradient:\n",
      "Alice: [-0.01686156 -0.01012888]\n",
      "Bob: [-0.0085393   0.00930784]\n",
      "Charlie: [-0.00412429 -0.01343251]\n",
      "Diane: [ 0.00908923 -0.00716087]\n",
      "Eve: [-0.00673484 -0.0107691 ]\n",
      "Fred: [-0.01174346 -0.00308988]\n",
      "George: [0.01267174 0.01413585]\n",
      "Isabel: [-0.00672528 -0.02229434]\n",
      "hates: [-0.00208589 -0.00725513  0.00607718 -0.00264032]\n",
      "kills: [-0.00403996  0.00772784  0.00631926  0.00695181]\n",
      "loves: [-0.00456121 -0.0044004  -0.00093371  0.01333533]\n"
     ]
    }
   ],
   "source": [
    "from time import time\n",
    "from jax import jit, grad\n",
    "\n",
    "training_loss = jit(loss)\n",
    "testing_loss = jit(lambda ar: loss(ar, testing))\n",
    "gradient = jit(grad(training_loss))\n",
    "start = time()\n",
    "\n",
    "print(\"{1:.0f} seconds to just-in-time compile the gradient:\\n{0}\".format(\"\\n\".join(\n",
    "    \"{}: {}\".format(word, dx) for word, dx in gradient(ar).items()), time() - start))"
   ]
  },
  {
   "cell_type": "code",
   "execution_count": 8,
   "metadata": {},
   "outputs": [
    {
     "name": "stdout",
     "output_type": "stream",
     "text": [
      "Epoch 1 (55.945 seconds)\n",
      "Epoch 2 (0.932 seconds)\n",
      "Epoch 3 (0.919 seconds)\n",
      "Epoch 4 (0.958 seconds)\n",
      "Epoch 5 (0.896 seconds)\n",
      "Epoch 6 (0.884 seconds)\n",
      "Epoch 7 (1.262 seconds)\n",
      "Epoch 8 (0.971 seconds)\n",
      "Epoch 9 (1.115 seconds)\n",
      "Epoch 10 (1.014 seconds)\n"
     ]
    },
    {
     "data": {
      "image/png": "[encoded data removed]",
      "text/plain": [
       "<Figure size 432x288 with 1 Axes>"
      ]
     },
     "metadata": {
      "needs_background": "light"
     },
     "output_type": "display_data"
    },
    {
     "data": {
      "image/png": "[encoded data removed]",
      "text/plain": [
       "<Figure size 432x288 with 1 Axes>"
      ]
     },
     "metadata": {
      "needs_background": "light"
     },
     "output_type": "display_data"
    }
   ],
   "source": [
    "learning_rate = 1\n",
    "epochs = 10\n",
    "iterations = 100\n",
    "\n",
    "training_losses = []\n",
    "testing_losses = []\n",
    "\n",
    "for i in range(epochs):\n",
    "    start = time()\n",
    "    for _ in range(iterations):\n",
    "        g = gradient(ar)\n",
    "        for word in vocab:\n",
    "            ar[word] = ar[word] - g[word] * learning_rate\n",
    "        training_losses.append(float(training_loss(ar)))\n",
    "        testing_losses.append(float(testing_loss(ar)))\n",
    "    print(\"Epoch {} ({:.3f} seconds)\".format(i + 1, time() - start))\n",
    "\n",
    "F = TensorFunctor(ob, ar)\n",
    "y_pred = [float(sigmoid(F(diagrams[sentence]).array)) for sentence in sentences]\n",
    "\n",
    "plt.plot(training_losses)\n",
    "plt.xlabel(\"n_iterations\")\n",
    "plt.ylabel(\"training_loss\")\n",
    "plt.show()\n",
    "\n",
    "plt.plot(testing_losses)\n",
    "plt.xlabel(\"n_iterations\")\n",
    "plt.ylabel(\"testing_loss\")\n",
    "plt.show()"
   ]
  },
  {
   "cell_type": "markdown",
   "metadata": {},
   "source": [
    "## 3. Evaluate the learnt functor on some task\n",
    "\n",
    "Here we show the results for a binary classification task, i.e. yes-no question answering:"
   ]
  },
  {
   "cell_type": "code",
   "execution_count": 9,
   "metadata": {},
   "outputs": [
    {
     "name": "stdout",
     "output_type": "stream",
     "text": [
      "              precision    recall  f1-score   support\n",
      "\n",
      "       False       0.99      1.00      1.00       131\n",
      "        True       1.00      0.98      0.99        61\n",
      "\n",
      "    accuracy                           0.99       192\n",
      "   macro avg       1.00      0.99      0.99       192\n",
      "weighted avg       0.99      0.99      0.99       192\n",
      "\n"
     ]
    }
   ],
   "source": [
    "from sklearn.metrics import classification_report\n",
    "\n",
    "print(classification_report(np.array(y_true) > .5 + delta, np.array(y_pred) > .5 + delta))"
   ]
  },
  {
   "cell_type": "code",
   "execution_count": 10,
   "metadata": {},
   "outputs": [
    {
     "name": "stdout",
     "output_type": "stream",
     "text": [
      "Does Alice love Bob?\n",
      "No\n"
     ]
    }
   ],
   "source": [
    "print(\"Does Alice love Bob?\\n{}\".format(\n",
    "    \"Yes\" if y_pred[sentences.index(\"Alice loves Bob\")] > 0.5 + delta else \"No\"))"
   ]
  }
 ],
 "metadata": {
  "kernelspec": {
   "display_name": "Python 3",
   "language": "python",
   "name": "python3"
  },
  "language_info": {
   "codemirror_mode": {
    "name": "ipython",
    "version": 3
   },
   "file_extension": ".py",
   "mimetype": "text/x-python",
   "name": "python",
   "nbconvert_exporter": "python",
   "pygments_lexer": "ipython3",
   "version": "3.8.5"
  }
 },
 "nbformat": 4,
 "nbformat_minor": 2
}
